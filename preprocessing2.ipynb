{
 "cells": [
  {
   "cell_type": "code",
   "execution_count": 2,
   "id": "0d9e9e5e",
   "metadata": {},
   "outputs": [
    {
     "name": "stdout",
     "output_type": "stream",
     "text": [
      "\n",
      "=== Processing September 2024 (202409) ===\n",
      "Processing 202409: Found 5 files\n"
     ]
    },
    {
     "name": "stderr",
     "output_type": "stream",
     "text": [
      "C:\\Users\\nacha\\AppData\\Local\\Temp\\ipykernel_4788\\650649952.py:32: DtypeWarning: Columns (5,7) have mixed types. Specify dtype option on import or set low_memory=False.\n",
      "  df = pd.read_csv(file)\n"
     ]
    },
    {
     "name": "stdout",
     "output_type": "stream",
     "text": [
      "  Loaded C:\\Users\\nacha\\OneDrive\\Desktop\\school stuff\\year 3 semester 1\\visualization\\vis proj\\second try\\data\\202409-citibike-tripdata\\202409-citibike-tripdata_1.csv: 1000000 rows\n"
     ]
    },
    {
     "name": "stderr",
     "output_type": "stream",
     "text": [
      "C:\\Users\\nacha\\AppData\\Local\\Temp\\ipykernel_4788\\650649952.py:32: DtypeWarning: Columns (7) have mixed types. Specify dtype option on import or set low_memory=False.\n",
      "  df = pd.read_csv(file)\n"
     ]
    },
    {
     "name": "stdout",
     "output_type": "stream",
     "text": [
      "  Loaded C:\\Users\\nacha\\OneDrive\\Desktop\\school stuff\\year 3 semester 1\\visualization\\vis proj\\second try\\data\\202409-citibike-tripdata\\202409-citibike-tripdata_2.csv: 1000000 rows\n"
     ]
    },
    {
     "name": "stderr",
     "output_type": "stream",
     "text": [
      "C:\\Users\\nacha\\AppData\\Local\\Temp\\ipykernel_4788\\650649952.py:32: DtypeWarning: Columns (7) have mixed types. Specify dtype option on import or set low_memory=False.\n",
      "  df = pd.read_csv(file)\n"
     ]
    },
    {
     "name": "stdout",
     "output_type": "stream",
     "text": [
      "  Loaded C:\\Users\\nacha\\OneDrive\\Desktop\\school stuff\\year 3 semester 1\\visualization\\vis proj\\second try\\data\\202409-citibike-tripdata\\202409-citibike-tripdata_3.csv: 1000000 rows\n"
     ]
    },
    {
     "name": "stderr",
     "output_type": "stream",
     "text": [
      "C:\\Users\\nacha\\AppData\\Local\\Temp\\ipykernel_4788\\650649952.py:32: DtypeWarning: Columns (7) have mixed types. Specify dtype option on import or set low_memory=False.\n",
      "  df = pd.read_csv(file)\n"
     ]
    },
    {
     "name": "stdout",
     "output_type": "stream",
     "text": [
      "  Loaded C:\\Users\\nacha\\OneDrive\\Desktop\\school stuff\\year 3 semester 1\\visualization\\vis proj\\second try\\data\\202409-citibike-tripdata\\202409-citibike-tripdata_4.csv: 1000000 rows\n"
     ]
    },
    {
     "name": "stderr",
     "output_type": "stream",
     "text": [
      "C:\\Users\\nacha\\AppData\\Local\\Temp\\ipykernel_4788\\650649952.py:32: DtypeWarning: Columns (5,7) have mixed types. Specify dtype option on import or set low_memory=False.\n",
      "  df = pd.read_csv(file)\n"
     ]
    },
    {
     "name": "stdout",
     "output_type": "stream",
     "text": [
      "  Loaded C:\\Users\\nacha\\OneDrive\\Desktop\\school stuff\\year 3 semester 1\\visualization\\vis proj\\second try\\data\\202409-citibike-tripdata\\202409-citibike-tripdata_5.csv: 997898 rows\n",
      "  Combined data: 4997898 total rows\n",
      "  After cleaning: 4981399 rows\n",
      "  Saved 112803 station-day records to C:\\Users\\nacha\\OneDrive\\Desktop\\school stuff\\year 3 semester 1\\visualization\\vis proj\\second try\\processed_202409.csv\n",
      "  Date range: 2024-08-31 to 2024-09-30\n",
      "  Unique stations: 4402\n",
      "  Average daily net balance: 0.00\n",
      "\n",
      "=== Processing December 2024 (202412) ===\n",
      "Processing 202412: Found 3 files\n"
     ]
    },
    {
     "name": "stderr",
     "output_type": "stream",
     "text": [
      "C:\\Users\\nacha\\AppData\\Local\\Temp\\ipykernel_4788\\650649952.py:32: DtypeWarning: Columns (7) have mixed types. Specify dtype option on import or set low_memory=False.\n",
      "  df = pd.read_csv(file)\n"
     ]
    },
    {
     "name": "stdout",
     "output_type": "stream",
     "text": [
      "  Loaded C:\\Users\\nacha\\OneDrive\\Desktop\\school stuff\\year 3 semester 1\\visualization\\vis proj\\second try\\data\\202412-citibike-tripdata\\202412-citibike-tripdata_1.csv: 1000000 rows\n"
     ]
    },
    {
     "name": "stderr",
     "output_type": "stream",
     "text": [
      "C:\\Users\\nacha\\AppData\\Local\\Temp\\ipykernel_4788\\650649952.py:32: DtypeWarning: Columns (5,7) have mixed types. Specify dtype option on import or set low_memory=False.\n",
      "  df = pd.read_csv(file)\n"
     ]
    },
    {
     "name": "stdout",
     "output_type": "stream",
     "text": [
      "  Loaded C:\\Users\\nacha\\OneDrive\\Desktop\\school stuff\\year 3 semester 1\\visualization\\vis proj\\second try\\data\\202412-citibike-tripdata\\202412-citibike-tripdata_2.csv: 1000000 rows\n",
      "  Loaded C:\\Users\\nacha\\OneDrive\\Desktop\\school stuff\\year 3 semester 1\\visualization\\vis proj\\second try\\data\\202412-citibike-tripdata\\202412-citibike-tripdata_3.csv: 311171 rows\n",
      "  Combined data: 2311171 total rows\n",
      "  After cleaning: 2302930 rows\n",
      "  Saved 84775 station-day records to C:\\Users\\nacha\\OneDrive\\Desktop\\school stuff\\year 3 semester 1\\visualization\\vis proj\\second try\\processed_202412.csv\n",
      "  Date range: 2024-11-30 to 2024-12-31\n",
      "  Unique stations: 4057\n",
      "  Average daily net balance: 0.00\n",
      "\n",
      "=== Processing March 2025 (202503) ===\n",
      "Processing 202503: Found 4 files\n"
     ]
    },
    {
     "name": "stderr",
     "output_type": "stream",
     "text": [
      "C:\\Users\\nacha\\AppData\\Local\\Temp\\ipykernel_4788\\650649952.py:32: DtypeWarning: Columns (5,7) have mixed types. Specify dtype option on import or set low_memory=False.\n",
      "  df = pd.read_csv(file)\n"
     ]
    },
    {
     "name": "stdout",
     "output_type": "stream",
     "text": [
      "  Loaded C:\\Users\\nacha\\OneDrive\\Desktop\\school stuff\\year 3 semester 1\\visualization\\vis proj\\second try\\data\\202503-citibike-tripdata\\202503-citibike-tripdata_1.csv: 1000000 rows\n"
     ]
    },
    {
     "name": "stderr",
     "output_type": "stream",
     "text": [
      "C:\\Users\\nacha\\AppData\\Local\\Temp\\ipykernel_4788\\650649952.py:32: DtypeWarning: Columns (5,7) have mixed types. Specify dtype option on import or set low_memory=False.\n",
      "  df = pd.read_csv(file)\n"
     ]
    },
    {
     "name": "stdout",
     "output_type": "stream",
     "text": [
      "  Loaded C:\\Users\\nacha\\OneDrive\\Desktop\\school stuff\\year 3 semester 1\\visualization\\vis proj\\second try\\data\\202503-citibike-tripdata\\202503-citibike-tripdata_2.csv: 1000000 rows\n"
     ]
    },
    {
     "name": "stderr",
     "output_type": "stream",
     "text": [
      "C:\\Users\\nacha\\AppData\\Local\\Temp\\ipykernel_4788\\650649952.py:32: DtypeWarning: Columns (5,7) have mixed types. Specify dtype option on import or set low_memory=False.\n",
      "  df = pd.read_csv(file)\n"
     ]
    },
    {
     "name": "stdout",
     "output_type": "stream",
     "text": [
      "  Loaded C:\\Users\\nacha\\OneDrive\\Desktop\\school stuff\\year 3 semester 1\\visualization\\vis proj\\second try\\data\\202503-citibike-tripdata\\202503-citibike-tripdata_3.csv: 1000000 rows\n"
     ]
    },
    {
     "name": "stderr",
     "output_type": "stream",
     "text": [
      "C:\\Users\\nacha\\AppData\\Local\\Temp\\ipykernel_4788\\650649952.py:32: DtypeWarning: Columns (7) have mixed types. Specify dtype option on import or set low_memory=False.\n",
      "  df = pd.read_csv(file)\n"
     ]
    },
    {
     "name": "stdout",
     "output_type": "stream",
     "text": [
      "  Loaded C:\\Users\\nacha\\OneDrive\\Desktop\\school stuff\\year 3 semester 1\\visualization\\vis proj\\second try\\data\\202503-citibike-tripdata\\202503-citibike-tripdata_4.csv: 168271 rows\n",
      "  Combined data: 3168271 total rows\n",
      "  After cleaning: 3158900 rows\n",
      "  Saved 115534 station-day records to C:\\Users\\nacha\\OneDrive\\Desktop\\school stuff\\year 3 semester 1\\visualization\\vis proj\\second try\\processed_202503.csv\n",
      "  Date range: 2025-02-28 to 2025-03-31\n",
      "  Unique stations: 4428\n",
      "  Average daily net balance: 0.00\n",
      "\n",
      "=== Processing June 2025 (202506) ===\n",
      "Processing 202506: Found 5 files\n"
     ]
    },
    {
     "name": "stderr",
     "output_type": "stream",
     "text": [
      "C:\\Users\\nacha\\AppData\\Local\\Temp\\ipykernel_4788\\650649952.py:32: DtypeWarning: Columns (7) have mixed types. Specify dtype option on import or set low_memory=False.\n",
      "  df = pd.read_csv(file)\n"
     ]
    },
    {
     "name": "stdout",
     "output_type": "stream",
     "text": [
      "  Loaded C:\\Users\\nacha\\OneDrive\\Desktop\\school stuff\\year 3 semester 1\\visualization\\vis proj\\second try\\data\\202506-citibike-tripdata\\202506-citibike-tripdata_1.csv: 1000000 rows\n"
     ]
    },
    {
     "name": "stderr",
     "output_type": "stream",
     "text": [
      "C:\\Users\\nacha\\AppData\\Local\\Temp\\ipykernel_4788\\650649952.py:32: DtypeWarning: Columns (5,7) have mixed types. Specify dtype option on import or set low_memory=False.\n",
      "  df = pd.read_csv(file)\n"
     ]
    },
    {
     "name": "stdout",
     "output_type": "stream",
     "text": [
      "  Loaded C:\\Users\\nacha\\OneDrive\\Desktop\\school stuff\\year 3 semester 1\\visualization\\vis proj\\second try\\data\\202506-citibike-tripdata\\202506-citibike-tripdata_2.csv: 1000000 rows\n"
     ]
    },
    {
     "name": "stderr",
     "output_type": "stream",
     "text": [
      "C:\\Users\\nacha\\AppData\\Local\\Temp\\ipykernel_4788\\650649952.py:32: DtypeWarning: Columns (7) have mixed types. Specify dtype option on import or set low_memory=False.\n",
      "  df = pd.read_csv(file)\n"
     ]
    },
    {
     "name": "stdout",
     "output_type": "stream",
     "text": [
      "  Loaded C:\\Users\\nacha\\OneDrive\\Desktop\\school stuff\\year 3 semester 1\\visualization\\vis proj\\second try\\data\\202506-citibike-tripdata\\202506-citibike-tripdata_3.csv: 1000000 rows\n"
     ]
    },
    {
     "name": "stderr",
     "output_type": "stream",
     "text": [
      "C:\\Users\\nacha\\AppData\\Local\\Temp\\ipykernel_4788\\650649952.py:32: DtypeWarning: Columns (7) have mixed types. Specify dtype option on import or set low_memory=False.\n",
      "  df = pd.read_csv(file)\n"
     ]
    },
    {
     "name": "stdout",
     "output_type": "stream",
     "text": [
      "  Loaded C:\\Users\\nacha\\OneDrive\\Desktop\\school stuff\\year 3 semester 1\\visualization\\vis proj\\second try\\data\\202506-citibike-tripdata\\202506-citibike-tripdata_4.csv: 1000000 rows\n"
     ]
    },
    {
     "name": "stderr",
     "output_type": "stream",
     "text": [
      "C:\\Users\\nacha\\AppData\\Local\\Temp\\ipykernel_4788\\650649952.py:32: DtypeWarning: Columns (7) have mixed types. Specify dtype option on import or set low_memory=False.\n",
      "  df = pd.read_csv(file)\n"
     ]
    },
    {
     "name": "stdout",
     "output_type": "stream",
     "text": [
      "  Loaded C:\\Users\\nacha\\OneDrive\\Desktop\\school stuff\\year 3 semester 1\\visualization\\vis proj\\second try\\data\\202506-citibike-tripdata\\202506-citibike-tripdata_5.csv: 759345 rows\n",
      "  Combined data: 4759345 total rows\n",
      "  After cleaning: 4740706 rows\n",
      "  Saved 93286 station-day records to C:\\Users\\nacha\\OneDrive\\Desktop\\school stuff\\year 3 semester 1\\visualization\\vis proj\\second try\\processed_202506.csv\n",
      "  Date range: 2025-05-31 to 2025-06-30\n",
      "  Unique stations: 4172\n",
      "  Average daily net balance: 0.00\n",
      "\n",
      "=== Processing Complete ===\n",
      "Processed 4 months\n",
      "\n",
      "Sample data from 202409:\n",
      "  station_id                   station_name        lat        lng        date  \\\n",
      "0    5788.13          Lafayette St & E 8 St  40.730207 -73.991026  2024-08-31   \n",
      "1    6593.15                6 Ave & W 45 St  40.756951 -73.982631  2024-08-31   \n",
      "2    5847.01  Christopher St & Greenwich St  40.732916 -74.007114  2024-08-31   \n",
      "3    5379.09              Berry St & N 8 St  40.719009 -73.958525  2024-08-31   \n",
      "4    5288.12       Murray St & Greenwich St  40.714852 -74.011223  2024-08-31   \n",
      "\n",
      "   departures  arrivals  net_balance  \n",
      "0         2.0       0.0         -2.0  \n",
      "1         7.0       0.0         -7.0  \n",
      "2         2.0       0.0         -2.0  \n",
      "3         3.0       0.0         -3.0  \n",
      "4         1.0       0.0         -1.0  \n",
      "\n",
      "Data types:\n",
      "station_id       object\n",
      "station_name     object\n",
      "lat             float64\n",
      "lng             float64\n",
      "date             object\n",
      "departures      float64\n",
      "arrivals        float64\n",
      "net_balance     float64\n",
      "dtype: object\n"
     ]
    }
   ],
   "source": [
    "import pandas as pd\n",
    "import numpy as np\n",
    "import os\n",
    "from datetime import datetime\n",
    "import glob\n",
    "\n",
    "# Base directory path\n",
    "base_dir = r\"C:\\Users\\nacha\\OneDrive\\Desktop\\school stuff\\year 3 semester 1\\visualization\\vis proj\\second try\"\n",
    "data_dir = os.path.join(base_dir, \"data\")\n",
    "\n",
    "# Month mappings for processing\n",
    "months = {\n",
    "    \"202409\": \"September 2024\",\n",
    "    \"202412\": \"December 2024\", \n",
    "    \"202503\": \"March 2025\",\n",
    "    \"202506\": \"June 2025\"\n",
    "}\n",
    "\n",
    "def process_month_data(month_code):\n",
    "    \"\"\"Process all CSV files for a given month\"\"\"\n",
    "    month_folder = os.path.join(data_dir, f\"{month_code}-citibike-tripdata\")\n",
    "    \n",
    "    # Get all CSV files in the month folder\n",
    "    csv_files = glob.glob(os.path.join(month_folder, \"*.csv\"))\n",
    "    \n",
    "    print(f\"Processing {month_code}: Found {len(csv_files)} files\")\n",
    "    \n",
    "    # Read and combine all CSV files for this month\n",
    "    all_data = []\n",
    "    for file in csv_files:\n",
    "        try:\n",
    "            df = pd.read_csv(file)\n",
    "            all_data.append(df)\n",
    "            print(f\"  Loaded {file}: {len(df)} rows\")\n",
    "        except Exception as e:\n",
    "            print(f\"  Error loading {file}: {e}\")\n",
    "    \n",
    "    if not all_data:\n",
    "        print(f\"No data found for {month_code}\")\n",
    "        return None\n",
    "    \n",
    "    # Combine all data\n",
    "    combined_df = pd.concat(all_data, ignore_index=True)\n",
    "    print(f\"  Combined data: {len(combined_df)} total rows\")\n",
    "    \n",
    "    # Convert datetime columns\n",
    "    combined_df['started_at'] = pd.to_datetime(combined_df['started_at'])\n",
    "    combined_df['ended_at'] = pd.to_datetime(combined_df['ended_at'])\n",
    "    \n",
    "    # Extract date for daily aggregation\n",
    "    combined_df['start_date'] = combined_df['started_at'].dt.date\n",
    "    combined_df['end_date'] = combined_df['ended_at'].dt.date\n",
    "    \n",
    "    # Remove rows with missing station information\n",
    "    combined_df = combined_df.dropna(subset=['start_station_id', 'end_station_id', \n",
    "                                           'start_station_name', 'end_station_name',\n",
    "                                           'start_lat', 'start_lng', 'end_lat', 'end_lng'])\n",
    "    \n",
    "    print(f\"  After cleaning: {len(combined_df)} rows\")\n",
    "    \n",
    "    return combined_df\n",
    "\n",
    "def calculate_daily_station_balance(df):\n",
    "    \"\"\"Calculate daily net balance for each station\"\"\"\n",
    "    \n",
    "    # Create station master list with coordinates\n",
    "    start_stations = df[['start_station_id', 'start_station_name', 'start_lat', 'start_lng']].drop_duplicates()\n",
    "    start_stations.columns = ['station_id', 'station_name', 'lat', 'lng']\n",
    "    \n",
    "    end_stations = df[['end_station_id', 'end_station_name', 'end_lat', 'end_lng']].drop_duplicates()\n",
    "    end_stations.columns = ['station_id', 'station_name', 'lat', 'lng']\n",
    "    \n",
    "    # Combine and deduplicate stations\n",
    "    all_stations = pd.concat([start_stations, end_stations]).drop_duplicates(subset=['station_id'])\n",
    "    \n",
    "    # Group by date and calculate departures (bikes leaving stations)\n",
    "    departures = df.groupby(['start_date', 'start_station_id']).size().reset_index()\n",
    "    departures.columns = ['date', 'station_id', 'departures']\n",
    "    \n",
    "    # Group by date and calculate arrivals (bikes arriving at stations)\n",
    "    arrivals = df.groupby(['end_date', 'end_station_id']).size().reset_index()\n",
    "    arrivals.columns = ['date', 'station_id', 'arrivals']\n",
    "    \n",
    "    # Get all unique dates\n",
    "    all_dates = sorted(set(df['start_date'].unique()) | set(df['end_date'].unique()))\n",
    "    \n",
    "    daily_balances = []\n",
    "    \n",
    "    for date in all_dates:\n",
    "        # Get departures and arrivals for this date\n",
    "        date_departures = departures[departures['date'] == date]\n",
    "        date_arrivals = arrivals[arrivals['date'] == date]\n",
    "        \n",
    "        # Merge with station master list\n",
    "        date_balance = all_stations.copy()\n",
    "        date_balance['date'] = date\n",
    "        \n",
    "        # Add departures\n",
    "        date_balance = date_balance.merge(date_departures[['station_id', 'departures']], \n",
    "                                        on='station_id', how='left')\n",
    "        date_balance['departures'] = date_balance['departures'].fillna(0)\n",
    "        \n",
    "        # Add arrivals\n",
    "        date_balance = date_balance.merge(date_arrivals[['station_id', 'arrivals']], \n",
    "                                        on='station_id', how='left')\n",
    "        date_balance['arrivals'] = date_balance['arrivals'].fillna(0)\n",
    "        \n",
    "        # Calculate net balance (positive = gained bikes, negative = lost bikes)\n",
    "        date_balance['net_balance'] = date_balance['arrivals'] - date_balance['departures']\n",
    "        \n",
    "        # Only include stations that had activity\n",
    "        date_balance = date_balance[(date_balance['departures'] > 0) | (date_balance['arrivals'] > 0)]\n",
    "        \n",
    "        daily_balances.append(date_balance)\n",
    "    \n",
    "    return pd.concat(daily_balances, ignore_index=True)\n",
    "\n",
    "# Process each month\n",
    "processed_data = {}\n",
    "\n",
    "for month_code, month_name in months.items():\n",
    "    print(f\"\\n=== Processing {month_name} ({month_code}) ===\")\n",
    "    \n",
    "    # Load and process raw data\n",
    "    raw_data = process_month_data(month_code)\n",
    "    \n",
    "    if raw_data is not None:\n",
    "        # Calculate daily balances\n",
    "        daily_balances = calculate_daily_station_balance(raw_data)\n",
    "        \n",
    "        # Save processed data\n",
    "        output_file = os.path.join(base_dir, f\"processed_{month_code}.csv\")\n",
    "        daily_balances.to_csv(output_file, index=False)\n",
    "        \n",
    "        processed_data[month_code] = daily_balances\n",
    "        \n",
    "        print(f\"  Saved {len(daily_balances)} station-day records to {output_file}\")\n",
    "        print(f\"  Date range: {daily_balances['date'].min()} to {daily_balances['date'].max()}\")\n",
    "        print(f\"  Unique stations: {daily_balances['station_id'].nunique()}\")\n",
    "        print(f\"  Average daily net balance: {daily_balances['net_balance'].mean():.2f}\")\n",
    "    else:\n",
    "        print(f\"  Skipped {month_name} - no data found\")\n",
    "\n",
    "print(f\"\\n=== Processing Complete ===\")\n",
    "print(f\"Processed {len(processed_data)} months\")\n",
    "\n",
    "# Display sample data\n",
    "if processed_data:\n",
    "    sample_month = list(processed_data.keys())[0]\n",
    "    print(f\"\\nSample data from {sample_month}:\")\n",
    "    print(processed_data[sample_month].head())\n",
    "    print(f\"\\nData types:\")\n",
    "    print(processed_data[sample_month].dtypes)"
   ]
  }
 ],
 "metadata": {
  "kernelspec": {
   "display_name": "myenv",
   "language": "python",
   "name": "python3"
  },
  "language_info": {
   "codemirror_mode": {
    "name": "ipython",
    "version": 3
   },
   "file_extension": ".py",
   "mimetype": "text/x-python",
   "name": "python",
   "nbconvert_exporter": "python",
   "pygments_lexer": "ipython3",
   "version": "3.11.13"
  }
 },
 "nbformat": 4,
 "nbformat_minor": 5
}
