{
 "cells": [
  {
   "cell_type": "code",
   "execution_count": 1,
   "id": "0d9e9e5e",
   "metadata": {},
   "outputs": [],
   "source": [
    "import pandas as pd\n",
    "import numpy as np\n",
    "import os\n",
    "from datetime import datetime\n",
    "import glob\n",
    "import matplotlib.pyplot as plt\n",
    "import seaborn as sns"
   ]
  },
  {
   "cell_type": "code",
   "execution_count": 2,
   "metadata": {
    "collapsed": false
   },
   "outputs": [],
   "source": [
    "#12.07.25\n",
    "# 16:30\n",
    "# Base directory path\n",
    "# base_dir = r\"/\"\n",
    "# data_dir = os.path.join(base_dir, \"data\")\n",
    "data_dir = os.path.join(\"data\")\n",
    "# Month mappings for processing\n",
    "months = {\n",
    "    \"202409\": \"September 2024\",\n",
    "    \"202412\": \"December 2024\",\n",
    "    \"202503\": \"March 2025\",\n",
    "    \"202506\": \"June 2025\"\n",
    "}"
   ]
  },
  {
   "cell_type": "code",
   "execution_count": 18,
   "metadata": {
    "collapsed": false
   },
   "outputs": [
    {
     "name": "stderr",
     "output_type": "stream",
     "text": [
      "C:\\Users\\Administrator\\AppData\\Local\\Temp\\ipykernel_17304\\3422870340.py:7: DtypeWarning: Columns (5,7) have mixed types. Specify dtype option on import or set low_memory=False.\n",
      "  eda_df = pd.read_csv(eda_path)\n"
     ]
    }
   ],
   "source": [
    "# Set path to the example file for EDA\n",
    "eda_dir = os.path.join(\"data\", \"202409-citibike-tripdata\")\n",
    "eda_file = \"202409-citibike-tripdata_1.csv\"\n",
    "eda_path = os.path.join(eda_dir, eda_file)\n",
    "\n",
    "# Load the file for EDA\n",
    "eda_df = pd.read_csv(eda_path)"
   ]
  },
  {
   "cell_type": "code",
   "execution_count": 23,
   "metadata": {
    "collapsed": false
   },
   "outputs": [
    {
     "name": "stdout",
     "output_type": "stream",
     "text": [
      "Head of the dataset:\n",
      "            ride_id  rideable_type               started_at  \\\n",
      "0  E0F6DFD158327949   classic_bike  2024-09-04 21:46:53.427   \n",
      "1  717678054AC545D7  electric_bike  2024-09-02 17:50:21.821   \n",
      "2  02CA1B62461AD8F7  electric_bike  2024-09-13 16:32:30.565   \n",
      "3  8C293FCE601BD974  electric_bike  2024-09-07 11:05:10.750   \n",
      "4  435814654E44B332  electric_bike  2024-09-04 20:17:45.749   \n",
      "\n",
      "                  ended_at     start_station_name start_station_id  \\\n",
      "0  2024-09-04 21:53:01.731  Lafayette St & E 8 St          5788.13   \n",
      "1  2024-09-02 17:58:52.402   Market St & Henry St          5270.09   \n",
      "2  2024-09-13 16:41:36.847       E 20 St & FDR Dr          5886.13   \n",
      "3  2024-09-07 11:19:31.049         E 4 St & Ave B          5515.08   \n",
      "4  2024-09-04 20:23:10.568       E 20 St & FDR Dr          5886.13   \n",
      "\n",
      "             end_station_name end_station_id  start_lat  start_lng    end_lat  \\\n",
      "0              E 2 St & 2 Ave        5593.02  40.730207 -73.991026  40.725029   \n",
      "1  E Houston St & Columbia St        5436.11  40.713107 -73.994464  40.719786   \n",
      "2     Lexington Ave & E 36 St        6313.10  40.733209 -73.975681  40.747574   \n",
      "3         Calyer St & West St        5676.04  40.723347 -73.982659  40.726930   \n",
      "4  E Houston St & Columbia St        5436.11  40.733209 -73.975681  40.719786   \n",
      "\n",
      "     end_lng member_casual  \n",
      "0 -73.990697        member  \n",
      "1 -73.978716        member  \n",
      "2 -73.978801        member  \n",
      "3 -73.958630        member  \n",
      "4 -73.978716        member  \n"
     ]
    }
   ],
   "source": [
    "\n",
    "# Display the first few rows\n",
    "print(\"Head of the dataset:\")\n",
    "print(eda_df.head(5))"
   ]
  },
  {
   "cell_type": "code",
   "execution_count": 24,
   "metadata": {
    "collapsed": false
   },
   "outputs": [],
   "source": [
    "\n",
    "# Count rows with at least one NaN value\n",
    "rows_with_nan = eda_df.isna().any(axis=1).sum()\n",
    "\n",
    "# Count rows with at least one zero value\n",
    "rows_with_zero = (eda_df == 0).any(axis=1).sum()\n",
    "\n",
    "# Count rows where all values are NaN\n",
    "rows_fully_empty = eda_df.isna().all(axis=1).sum()\n",
    "rows_with_6_or_more_nan = (eda_df.isna().sum(axis=1) >= 6).sum()\n",
    "\n",
    "# Identify the column with the most missing values\n",
    "most_missing_col = eda_df.isna().sum().idxmax()\n",
    "most_missing_count = eda_df.isna().sum().max()"
   ]
  },
  {
   "cell_type": "code",
   "execution_count": 25,
   "metadata": {
    "collapsed": false
   },
   "outputs": [
    {
     "name": "stdout",
     "output_type": "stream",
     "text": [
      "Number of rows with at least 6 NaN values: 386\n",
      "\n",
      "Rows with at least one NaN: 5350\n",
      "Rows with at least one 0: 0\n",
      "Rows fully empty: 0\n",
      "Column with most NaNs: 'end_station_id' (4935 missing)\n"
     ]
    }
   ],
   "source": [
    "print(f\"Number of rows with at least 6 NaN values: {rows_with_6_or_more_nan}\")\n",
    "print(f\"\\nRows with at least one NaN: {rows_with_nan}\")\n",
    "print(f\"Rows with at least one 0: {rows_with_zero}\")\n",
    "print(f\"Rows fully empty: {rows_fully_empty}\")\n",
    "print(f\"Column with most NaNs: '{most_missing_col}' ({most_missing_count} missing)\")"
   ]
  },
  {
   "cell_type": "code",
   "execution_count": 26,
   "metadata": {
    "collapsed": false
   },
   "outputs": [
    {
     "name": "stdout",
     "output_type": "stream",
     "text": [
      "\n",
      "Column data types:\n",
      "ride_id                object\n",
      "rideable_type          object\n",
      "started_at             object\n",
      "ended_at               object\n",
      "start_station_name     object\n",
      "start_station_id       object\n",
      "end_station_name       object\n",
      "end_station_id         object\n",
      "start_lat             float64\n",
      "start_lng             float64\n",
      "end_lat               float64\n",
      "end_lng               float64\n",
      "member_casual          object\n",
      "dtype: object\n",
      "Columns with mixed data types and their type breakdown:\n",
      "\n",
      "Column 'start_station_name' has mixed types:\n",
      "start_station_name\n",
      "<class 'str'>      999199\n",
      "<class 'float'>       801\n",
      "Name: count, dtype: int64\n",
      "\n",
      "Column 'start_station_id' has mixed types:\n",
      "start_station_id\n",
      "<class 'str'>      933696\n",
      "<class 'float'>     66304\n",
      "Name: count, dtype: int64\n",
      "\n",
      "Column 'end_station_name' has mixed types:\n",
      "end_station_name\n",
      "<class 'str'>      995166\n",
      "<class 'float'>      4834\n",
      "Name: count, dtype: int64\n",
      "\n",
      "Column 'end_station_id' has mixed types:\n",
      "end_station_id\n",
      "<class 'str'>      720775\n",
      "<class 'float'>    279225\n",
      "Name: count, dtype: int64\n"
     ]
    }
   ],
   "source": [
    "\n",
    "# Print column data types\n",
    "print(\"\\nColumn data types:\")\n",
    "print(eda_df.dtypes)\n",
    "\n",
    "# Check for mixed-type columns\n",
    "print(\"Columns with mixed data types and their type breakdown:\")\n",
    "for col in eda_df.columns:\n",
    "    type_counts = eda_df[col].map(type).value_counts()\n",
    "    if len(type_counts) > 1:\n",
    "        print(f\"\\nColumn '{col}' has mixed types:\")\n",
    "        print(type_counts)\n"
   ]
  },
  {
   "cell_type": "code",
   "execution_count": 29,
   "metadata": {
    "collapsed": false
   },
   "outputs": [
    {
     "name": "stdout",
     "output_type": "stream",
     "text": [
      "\n",
      "Basic statistics:\n",
      "                 ride_id  rideable_type               started_at  \\\n",
      "count            1000000        1000000                  1000000   \n",
      "unique           1000000              2                   999216   \n",
      "top     18EB991EC67DCE9F  electric_bike  2024-09-10 11:13:55.763   \n",
      "freq                   1         667626                        2   \n",
      "mean                 NaN            NaN                      NaN   \n",
      "std                  NaN            NaN                      NaN   \n",
      "min                  NaN            NaN                      NaN   \n",
      "25%                  NaN            NaN                      NaN   \n",
      "50%                  NaN            NaN                      NaN   \n",
      "75%                  NaN            NaN                      NaN   \n",
      "max                  NaN            NaN                      NaN   \n",
      "\n",
      "                       ended_at     start_station_name start_station_id  \\\n",
      "count                   1000000                 999199           999199   \n",
      "unique                   999277                   2126             4138   \n",
      "top     2024-09-10 07:24:01.155  West St & Chambers St          5329.03   \n",
      "freq                         15                   3402             3219   \n",
      "mean                        NaN                    NaN              NaN   \n",
      "std                         NaN                    NaN              NaN   \n",
      "min                         NaN                    NaN              NaN   \n",
      "25%                         NaN                    NaN              NaN   \n",
      "50%                         NaN                    NaN              NaN   \n",
      "75%                         NaN                    NaN              NaN   \n",
      "max                         NaN                    NaN              NaN   \n",
      "\n",
      "       end_station_name  end_station_id      start_lat      start_lng  \\\n",
      "count            995166       995065.00  999199.000000  999199.000000   \n",
      "unique             1980         2391.00            NaN            NaN   \n",
      "top     W 21 St & 6 Ave         6140.05            NaN            NaN   \n",
      "freq               8017         7902.00            NaN            NaN   \n",
      "mean                NaN             NaN      40.737713     -73.970920   \n",
      "std                 NaN             NaN       0.041511       0.029627   \n",
      "min                 NaN             NaN      40.633385     -74.026823   \n",
      "25%                 NaN             NaN      40.712220     -73.992327   \n",
      "50%                 NaN             NaN      40.735550     -73.978966   \n",
      "75%                 NaN             NaN      40.760958     -73.953809   \n",
      "max                 NaN             NaN      40.886300     -73.846720   \n",
      "\n",
      "              end_lat        end_lng member_casual  \n",
      "count   995073.000000  995073.000000       1000000  \n",
      "unique            NaN            NaN             2  \n",
      "top               NaN            NaN        member  \n",
      "freq              NaN            NaN        780240  \n",
      "mean        40.737554     -73.971167           NaN  \n",
      "std          0.041604       0.029713           NaN  \n",
      "min         40.633385     -74.086701           NaN  \n",
      "25%         40.712868     -73.993379           NaN  \n",
      "50%         40.735640     -73.979481           NaN  \n",
      "75%         40.760094     -73.954140           NaN  \n",
      "max         40.886020     -73.846720           NaN  \n"
     ]
    }
   ],
   "source": [
    "# Print basic descriptive statistics\n",
    "print(\"\\nBasic statistics:\")\n",
    "print(eda_df.describe(include='all'))"
   ]
  },
  {
   "cell_type": "code",
   "execution_count": 36,
   "metadata": {
    "collapsed": false
   },
   "outputs": [
    {
     "name": "stdout",
     "output_type": "stream",
     "text": [
      "Available columns: ['ride_id', 'rideable_type', 'started_at', 'ended_at', 'start_station_name', 'start_station_id', 'end_station_name', 'end_station_id', 'start_lat', 'start_lng', 'end_lat', 'end_lng', 'member_casual', 'start_hour']\n"
     ]
    }
   ],
   "source": [
    "print(\"Available columns:\", eda_df.columns.tolist())\n"
   ]
  },
  {
   "cell_type": "code",
   "execution_count": 37,
   "metadata": {
    "collapsed": false
   },
   "outputs": [
    {
     "data": {
      "image/png": "iVBORw0KGgoAAAANSUhEUgAAAkgAAAGACAYAAABWTZ3rAAAAOnRFWHRTb2Z0d2FyZQBNYXRwbG90bGliIHZlcnNpb24zLjEwLjAsIGh0dHBzOi8vbWF0cGxvdGxpYi5vcmcvlHJYcgAAAAlwSFlzAAAPYQAAD2EBqD+naQAAT4VJREFUeJzt3XlcVHX////HILtoGi64SyoqLkgJopeoaeaVtpH2qRTXNErT1HLJla5LtEVFcC3F5ZsV5oVZV5nl0i65VWoJGUpYKmpuuIDDcn5/+ONczYCGKAzS8367ebsx57zP67xn4DjPeb/fM2MxDMNARERERExOju6AiIiISFmjgCQiIiJiRwFJRERExI4CkoiIiIgdBSQREREROwpIIiIiInYUkERERETsKCCJiIiI2FFAEpES5+jPo3X0+UXk1qOAJLe0/v37079//6vu79q1KxMnTizFHl3x+++/07Rp07/8t27dulLv25+tW7euQJ9atWpF165dmTp1KsePH7dpP3/+fJo2bVrk+unp6URERHDkyJFrttu+fTtNmzZl+/btxTrPtWzZsoUJEyZc9Vyl4fz583Tr1o2DBw8CV/5umzZtyuOPP37VY8aMGUPTpk1L7e/3r66lW01qaiqRkZHcc889tG7dmi5dujBmzBiSk5Md3bVrsv/bj46O5qWXXnJgj/6+nB3dAZHyqEaNGqxZs8a8ffLkSZ599lmeeeYZunTpYm6vX7++A3pX0IIFC6hevToAmZmZ/PLLL7z++uts3bqV+Ph46tWrB8Cjjz5KaGhoketu27aNzz//nKlTp16zXYsWLVizZg2NGzcu/p24ipUrV5baua4mKiqKu+++m0aNGpnbnJyc+OGHHzh27Bi1atWyaZ+Zmcnnn39eav0rbzZt2sS4ceNo0qQJzzzzDHXr1iU9PZ0333yTRx99lIULF9KpUydHd7NIIiIi6NGjB/feey/t27d3dHf+VhSQREqAq6srbdq0MW///vvvwJVA9OftZUXz5s2pW7euebt9+/bcfffdPPLII0ybNo0VK1YA4OPjg4+Pz00/v5eXV6k9LqV5LoCffvqJDz74gM8++8xmu7+/PykpKWzcuJHBgwfb7Nu6dStubm5UqlSp1PpZXhw+fJjx48cTGhrKvHnzqFChgrmvR48e9O3bl4kTJ7J161bc3d0d2NOi8fT0ZMCAAbz88su8//77ju7O34qm2ORv5aeffmLgwIHcddddBAYGMmjQIPbs2WPTZteuXYSHhxMQEEBwcDATJkzg9OnT5v5169bh7+/P2rVr6dixI506deKXX34pVn9GjRpF586dycvLs9k+bdo0unXrhmEYTJw4kf79+/Of//yHu+++m8DAQAYMGMD+/fttjjl69Chjx44lODiYgIAABg4cWKDN9ahXrx7/93//x7Zt2zh8+DBQcPj/t99+45lnnqFdu3YEBATw2GOP8cUXXwBXHqcXX3wRgG7duplTRV27dmXmzJkMHDiQO++8k2nTpl112mvz5s306NGDVq1a8eijj5KYmGjuu9oxf54q6t+/Pzt27GDHjh1m28KO27dvH08++STt2rXjzjvv5Omnn7b5neYfk5iYyJAhQwgICKBDhw688sor5OTkXPNxfP3112nXrh01a9a02e7p6Unnzp35+OOPCxyzYcMG/vnPf+LsbPsaNi8vjzfeeIPu3bvTsmVLevTowZtvvlng/k+bNo3FixcTGhpKQEAAw4YN448//iAhIYHu3bubf/v5wf3PFi5cSIcOHQgMDGT48OH89ttvNvsPHDhAREQEd955J3feeScjRoywaZP/WMXHx3P33XfToUMHvv766wLnGTJkCA8//HCB7aNHj6ZXr14AnD59mhdeeIF//OMftGrVioceeoj169cXOObP3nzzTaxWK1OmTLEJRwDu7u5MmDCBPn36kJGRYW5fu3YtjzzyCG3atKF169Y89NBDbNiwwdyfl5dHTEwMXbt2pWXLlnTt2pW5c+eSnZ0N/G9K3X7KfOLEiXTt2tW8nZubyxtvvMH9999P69atadOmDY8//rjN33VhHnjgAX7++Wfz2pLSoYAkfxsXLlxg6NChVK1aldjYWKKjo8nMzOTJJ5/k/PnzAOzcuZNBgwbh7u7OvHnzmDRpEjt27GDAgAFkZWWZtXJzc1myZAkzZsxg9OjRxZ6u6dOnD+np6TZP1larlY8//piwsDAsFgsASUlJREdH8+yzz/Laa69x9uxZ+vfvb64ROn36NI8//jg//fQTU6dOZc6cOeTl5dGvXz9z3UtxdOzYEYDdu3cX2JeXl0dERASXLl3i1VdfZdGiRVSpUoXhw4eTlpZGly5deOaZZ4ArU3jDhw83j33rrbdo2rQp8+fP56GHHrrq+SdNmsSAAQOYP38+FStWZNiwYaSkpBS5/9OnT8ff3x9/f3/WrFlDixYtCrT59ttveeKJJ8jLyyMqKooZM2Zw7NgxHn/88QKP3QsvvMBdd93FkiVLeOCBB1i+fDn/+c9/rnr+ixcvsnXrVv75z38Wur9nz57s2bOHo0ePmtsuXLjAl19+yf3331+gfWRkJLGxsTz44IMsWbKEf/7zn8ycOZOFCxfatPvoo4/Ytm0bUVFRvPjii2zbto3w8HDefPNNJkyYwOTJk9mzZw//+te/bI7bvXs3//3vf5k2bRozZswgOTmZQYMGYbVagSvreh5//HFOnTrFyy+/TFRUFL/99htPPPEEp06dsqkVHR3NhAkTmDBhQqEjdg899BBJSUkcOnTI5vH67LPPzL+JcePGkZKSwksvvcQbb7yBv78/EyZMuOb6sa+++gp/f/8CgTRfu3btGDt2LDVq1ACu/C3mvyB5/fXXee2113BxcWHcuHHm72Xp0qW89dZbjBgxguXLl/PEE0+wbNkylixZctV+FGb27NksXLiQxx57jGXLlvGvf/2LM2fO8Nxzz3Hp0qWrHufj40NgYCAffPDBdZ1Pboym2ORvIyUlhdOnT9O/f3/uuusuAO644w7i4+O5cOEClSpVYs6cOfj6+vL666+brz4DAgLo1asXCQkJ9OvXz6z39NNP26wnKo6OHTvi4+PD+vXrzfUFmzdv5vz584SFhZntzp8/z+LFiwkKCgKgdevW3HPPPaxcuZIJEyawatUqzp49yzvvvEOdOnUA6NSpEz179iQmJobY2Nhi9S9/XdLJkycL7Dt16hQHDx7k6aefpnPnzma/FixYwOXLl2nQoIG5xsp+Cq9GjRpMnDgRJ6crr9Gu9oQ3ffp0czShffv2dOvWjcWLFzNnzpwi9b9x48Z4eXkBXHVabc6cOdSrV49ly5aZv/OOHTvSvXt35s+fz7x588y2jz76KCNGjDD7s3nzZj7//POrLrbetWsX2dnZtG7dutD9Xbp0wdPTk40bNzJkyBDgyvqZ22+/3fwbzZeamsq7777L2LFjeeqpp8x+WiwWXn/9dfr27UvVqlUByM7OZsGCBdx2221mza+//prNmzeb68mSkpIKTNk4OTkRFxdn/g01atSIhx9+mPfee4/HHnuMBQsW4O7uzsqVK83HtX379txzzz0sW7bMZjH8448/ftVgCNC9e3c8PT3ZsGEDzz77rNnPy5cv88ADDwCwY8cOhg8fzj333ANcCTdVqlQpMDL0Z8ePH6d58+ZX3W/vt99+Y8iQIebvFaBu3bo88sgjfPfdd9SuXZsdO3bQokULevfuDUBwcDAeHh7mY1BUJ06cYMyYMTaL4d3d3Rk5ciQ///wzgYGBVz22VatWfPjhh9d1PrkxGkGSci9/FKZJkybcfvvtPPPMM0yfPp2tW7dSvXp1xo8fT61atcjMzGTPnj107twZwzDIyckhJyeHevXq0ahRI7755hubun5+fjfcNycnJ8LCwvj000/JzMwE4L333qNdu3bmkxRA7dq1zXAEVwJGYGCgObKTmJhI8+bNqVmzptlvJycnOnXqxLZt2264n/mP4Z9Vq1aNxo0bM3XqVCZOnMiGDRswDIMXX3zxLx+bRo0ameHoaipUqMC9995r3nZzc7tp9yffpUuX2LdvHz179rR50q1cuTJ33313geBm/wTm4+NzzVf++VNYfw6Hf+bu7k7Xrl1tptk++ugjevbsWeAx//bbbzEMg65du5q/45ycHLp27crly5dtRvkaNWpkhiO4EnRvv/12MxwBVKlSxRw5zdemTRubv7tmzZpRt25d8zH/9ttvadeuHe7u7ub5vby8aNu2bYHfy1+9C9HT05Pu3bvbTGV99NFHBAcHm4vW27Vrx/z583nuuedYt24dp0+fZsKECbRt2/aqdS0WC7m5udc8959NnDiRcePGcf78efbt28d///tf3nrrLQBzCq1du3Zs27aNvn37smLFCg4ePEh4eHihU4TXMmfOHAYNGsTp06f5/vvvWbdunTkqlH+uq6lTpw6nTp0y/5+QkqcRJLmleXp6cvbs2avut1qteHh4AFCxYkXeeustFi9ezIYNG4iPj8fDw4MHH3yQyZMnk5GRQV5eHkuXLmXp0qUFarm5udnc9vb2vin3oXfv3ixZsoRPP/2UDh068M033zBr1iybNvnTAfbn/+mnnwA4e/YsaWlphU4hwZV3ReU/DtcjfwqvsIXZFouF5cuXs3jxYjZt2sR7772Hi4sL99xzD5GRkVSpUuWqdatVq/aX565SpQouLi4227y9vW3Wjtyo8+fPYxhGof2pVq1agQBhv6jXycnpmp+xlH/8tR77++67jxEjRvD7779TsWJFEhMTGT16dIF2+X/n+SNq9v78kQyFjWwU5fdf2OPw58f87NmzbNiwwSbU5Lv99tsLHPdXHn74Yd5//32Sk5OpUaMG27Zts5n2i46OZsmSJXz88cds3LgRJycnOnToQGRkpE3Y+7M6derYTFnay8nJ4fTp0+Y1dfjwYaZNm8a3336Ls7Mzd9xxhxnu8n+3Q4cOpWLFiiQkJPDKK6/w8ssv4+fnx6RJk67rnWX79u3jpZdeYt++fbi7u9O4cWMzkP7VZ3V5enoCV/6minMty/VTQJJbWrVq1Thw4ECh+6xWK6dPn7b5T/+OO+7gtddeIzc3l7179/L+++/zzjvvULduXfr27YvFYmHQoEGFPgmV1H9K9erVIzg4mI8//tj8z+/PIydAoSHwjz/+MJ+EKlWqRHBwMOPHjy/0HK6ursXq27Zt27BYLFd9xV6zZk0iIyOZPn06ycnJbNy4kaVLl3Lbbbfd8Ge35IeXP4+k/PHHH+YTcf52+wXuFy9epGLFikU6R6VKlbBYLPzxxx8F9p08efKaIa8o8qe8MjIyCgSIfJ06daJSpUp88sknVKpUibp169KyZcsC7SpXrgzAqlWrCr1/tWvXvqG+5vfT3smTJ82Rs0qVKtGhQ4cC77oDCiwoL4qQkBBq1qzJxx9/TM2aNXF2dqZHjx7m/kqVKjFu3DjGjRvHoUOH2LJlC4sWLeKll15i2bJlhdbs2LEjq1at4uTJk+YU8Z999dVXPP3008ydO5f77ruPp556ChcXF9599138/f1xdnYmJSXFZr2Pk5MT/fr1o1+/fpw6dYovvviCJUuWMHLkSPMaAQqMXP15dDF/DWTTpk358MMPzVHUL774gk8++eQvH6tz585hsVhu+G9Sik5TbHJLCw4O5ujRo+zdu7fAvs2bN5Obm0tISAgAGzduJCQkhJMnT1KhQgUCAwOJjIykcuXKpKen4+Xlhb+/P4cOHaJVq1bmvyZNmrBgwYIS/WDBPn36sG3bNj744APuu+++AmHs8OHDNouTjx8/zg8//GC+eg0ODiY1NRVfX1+bvn/wwQesXbv2mms2riY9PZ21a9fSpUuXAp/TA/D999/ToUMH9u7di8VioXnz5owZMwY/Pz/S09MB/nIa7VqsVivffvutefvixYt8/vnntGvXDvjfKMmxY8fMNufOnSuwsPpaffD09KRly5Zs2LDB5snt/PnzfP755wXWAV2v/NCS/3gUxtXVlW7duvHpp5/y8ccfX3WEKH+K9cyZMza/47NnzzJv3rxrjqQW1ffff28zarZ3716OHDliXkPBwcGkpKTQvHlz8/wtW7Zk5cqVbNq06brP5+TkxP3338+WLVvYuHEj3bp1M3+vR44coXPnzmzcuBG48uJm2LBhdOjQ4ZqPZ79+/XBxcWHGjBkFAktmZiaxsbHcdttt3H333Zw5c4bU1FT69OlD69atzZD35ZdfAv8L348//jgzZswAroyMPfLII/Tr14/z589z4cIFs89/7ld2drbN/0uHDh3i7NmzDBgwgCZNmph/l/bnupr09HSqVatW7Bc7cv00giS3tJ49e7Jq1SqGDRtGREQELVq0IC8vj++++45ly5bRq1cv7rzzTgDuvPNO8vLyGDFiBE899RQVK1Y0R23yR2zyF8A+//zzPPjgg+Tm5rJ8+XL27NljviOrJPTo0YN///vf7Nmzp9BPTjYMg+HDhzN69GgqVKjAggULqFy5srnYc9CgQbz//vsMGjSIIUOGULVqVTZs2MC7775rvtX+WpKSksxRlMzMTH7++WdWrlyJm5sb06ZNK/QYf39/3N3dGT9+PCNHjqRatWps27aNpKQkBgwYAPxv1GPTpk106tTJ5oMS/4qLiwuTJk1i7NixeHl58cYbb5CVlWW+G65p06bUqlWLBQsWUKlSJZycnHjjjTcKhMvKlSvz/fffk5iYiL+/f4HzPP/88zz55JMMHTqU8PBwsrOzeeONN7Barebi4eJq27Yt7u7ufPfdd4WeO1/Pnj2JiIjAycmJKVOmFNrGz8+PBx98kKlTp3LkyBFatmxJamoq0dHR1K1bl4YNG95QX+HKk/RTTz3F008/zZkzZ5gzZ455XoDhw4fz+OOPExERwRNPPIGbmxtr1qxh8+bNxX4jwMMPP0xcXBwVKlRg8eLF5vY6derg4+PDjBkzuHDhAvXr1+fHH3/kiy++ICIi4qr16tatS2RkJJMnT6Zfv348/vjj1KpVi8OHD7Ny5UrS0tJYunQpnp6eeHp6UqdOHd566y18fHyoXLkyX3/9NatWrQIw1/sEBQWxfPlyqlWrRmBgIMePH2fFihUEBwebI4OBgYGsXr2aBg0aULVqVd58802ysrLMqTFfX1+8vLxYsmQJzs7OODs788knn5jvgvyrtUW7d+++rg9plRungCS3NBcXF1avXs2SJUtYu3YtsbGxODk50aBBA8aMGUN4eLjZtkaNGixbtoyYmBgmT55MZmYmTZo0Yf78+eYr5I4dOxIXF8eCBQsYNWoULi4utGjRghUrVpTohwu6ubnRvn17fv75ZzPQ/Vnt2rUZPHgwM2fOJDMzkw4dOrB48WJzuL1mzZrEx8czZ84cIiMjuXz5Mg0bNiQqKoo+ffr85fn/HAS8vLyoVasWDz30EP3797/qeiE3NzeWL1/OnDlziIqKIiMjg4YNG/Kvf/2LRx55BLiyuLVDhw7MmTOHxMRE3njjjSI/Jrfddhvjxo1j9uzZnDx5koCAAFavXs0dd9wBXFnEHRsby8yZMxk7dizVqlVj4MCBHDp0iNTUVLNOv379+PHHHxk2bBizZs0qsJ6rffv2rFixgtjYWMaOHYurqytt27bllVdeoUmTJkXub2E8PDzo1KkTX3zxhc3for0OHTpQuXJlatWqdc0QOWvWLF5//XXi4+NJT0/H29ubnj17msH5Rt19993Ur1+fcePGkZOTw913383kyZPN9XfNmjXjrbfeIjo6mvHjx2MYBn5+fixcuJBu3boV65x+fn40b96c48eP849//MNm34IFC5g7dy4xMTGcOXOGWrVq8eyzz5rv4ruasLAwGjRowKpVq5g3bx6nTp2ievXqBAYGEhMTY/OxHIsWLSIqKoqJEyfi6upK48aNWbx4MTNnzmTXrl3079+f5557DldXVxISEli4cCGVKlWia9euPP/882adl19+mX//+99MnToVLy8v+vTpQ2BgIGvXrgWuTBcuWrSIV199leeee46KFSvSvHlzVq9ezbBhw9i1a5fNZyb92fHjx0lOTi50bZqUHIuhb3EUcbisrCw6d+5MRESE+XbvfBMnTmTHjh1s3brVQb2TG7Fv3z4ee+wxNm3aZPMOMZGiWrBgAZs3b+a9994r9B2lUjK0BknEgY4cOcKCBQvMUPToo486uEdys7Vq1Yp//vOfV11ULHItFy5c4J133mHs2LEKR6VMAUnEgZycnHjzzTc5duwYc+fO1XdvlVPTpk3jiy++uK5PAReBK19V061bt1vmy3XLE02xiYiIiNjRCJKIiIiIHQUkERERETsKSCIiIiJ29DlIDvL9999jGEaB75oSERGRkpGdnY3FYinwxdOFUUByEMMw/vLLCUVEROTmuZ7nXQUkB8kfOWrVqpWDeyIiIvL3sG/fviK3dfgapOzsbKKjo+nSpQuBgYH07duX7777ztyflJREeHg4bdq0oUuXLsTFxdkcn5eXR2xsLKGhoQQEBDBkyBDS0tJs2pRGDRERESk/HB6QFi9eTEJCAjNmzGD9+vXmNzYfP36cM2fOMHjwYBo2bEhCQgIjR44kJiaGhIQE8/hFixYRHx/PjBkzWLNmDRaLhWHDhmG1WgFKrYaIiIiUI4aDPfjgg8asWbPM2+fPnzf8/PyMjRs3GkuWLDFCQ0ON7Oxsc/+cOXOMHj16GIZhGJcvXzYCAwONt99+29x/7tw5o3Xr1saHH35oGIZRKjWKY+/evcbevXuLfbyIiIhcn+t57nX4CFKVKlX47LPP+P3338nNzWXNmjW4urrSvHlzdu3aRVBQEM7O/1sqFRISQmpqKqdOnSI5OZmLFy+a38QOULlyZfz9/dm5cydAqdQQERGR8sXhi7QnT57MmDFj6NatGxUqVMDJyYmYmBjq169Peno6fn5+Nu1r1KgBwNGjR0lPTwegVq1aBdocO3YMoFRqeHt7F+u+G4bBpUuXinWsiIiIXB/DMIr8pb8OD0gHDx6kcuXKLFy4kJo1a7J27VomTJjA6tWrycrKwtXV1aa9m5sbAJcvXyYzMxOg0Dbnzp0DKJUaxZWdnU1SUlKxjxcREZHrY/98fjUODUhHjhxh3LhxrFy5krZt2wJX3vaekpLC/PnzcXd3NxdK58sPJJ6enri7uwNgtVrNn/PbeHh4AJRKjeJycXGhcePGxT5eREREii4lJaXIbR0akPbu3Ut2dnaBzwIKCAjgyy+/pHbt2pw4ccJmX/7tmjVrkpOTY26rX7++TZtmzZoB4OPjU+I1istisdxQwBIREZGiK+r0Gjj4bf75635+/vlnm+0HDhygQYMGBAUFsXv3bnJzc819iYmJ+Pr64u3tTbNmzfDy8mL79u3m/oyMDPbv32+OSJVGDRERESlfHBqQWrduTdu2bZkwYQLffvstv/76K/PmzSMxMZGnnnqK3r17c+HCBSZPnkxKSgrr1q1j1apVREREAFfmEcPDw5k9ezZbtmwhOTmZMWPG4OPjQ/fu3QFKpYaIiIiULxbDcOwXgp07d4558+bx+eefc+7cOfz8/Bg7dizBwcHAlWm4qKgo9u/fT/Xq1RkyZAjh4eHm8bm5ucydO5d169aRlZVFUFAQ06ZNo27dumab0qhxvfI/7lxfNSIiIlI6rue51+EB6e9KAUlERKR0Xc9zr8M/KFJKTl6esq/8PelvX0RulMM/B0lKjpOThYXvfMORE+cc3RWRUlOnxm2MeOIfju6GiNziFJDKuSMnzvHrkTOO7oaIiMgtRVNsIiIiInYUkERERETsKCCJiIiI2FFAEhEREbGjgCQiIiJiRwFJRERExI4CkoiIiIgdBSQREREROwpIIiIiInYUkERERETsKCCJiIiI2FFAEhEREbGjgCQiIiJiRwFJRERExI4CkoiIiIgdBSQREREROwpIIiIiInYUkERERETsKCCJiIiI2FFAEhEREbGjgCQiIiJix6EBafv27TRt2rTQf926dQMgKSmJ8PBw2rRpQ5cuXYiLi7OpkZeXR2xsLKGhoQQEBDBkyBDS0tJs2pRGDRERESk/HBqQAgMD+frrr23+LV++HGdnZ55++mnOnDnD4MGDadiwIQkJCYwcOZKYmBgSEhLMGosWLSI+Pp4ZM2awZs0aLBYLw4YNw2q1ApRaDRERESk/nB15cldXV6pXr27ezs7OZtasWdx77708+uijvP7667i6uhIZGYmzszONGjUiLS2NpUuX0rt3b6xWK8uXL2fcuHF07twZgOjoaEJDQ9m0aRO9evXi3XffLfEaIiIiUr6UqTVIb731FseOHePFF18EYNeuXQQFBeHs/L8cFxISQmpqKqdOnSI5OZmLFy8SEhJi7q9cuTL+/v7s3Lmz1GqIiIhI+eLQEaQ/u3z5MkuWLGHgwIHUqFEDgPT0dPz8/Gza5e87evQo6enpANSqVatAm2PHjpVaDW9v72LcYzAMg0uXLhXr2L9isVjw8PAokdoit4LMzEwMw3B0N0SkDDEMA4vFUqS2ZSYgvf/++1y+fJn+/fub27KysnB1dbVp5+bmBlwJVJmZmQCFtjl37lyp1Siu7OxskpKSin38tXh4eODv718itUVuBampqeb1LSKSz/75/GrKTEBav3499957L1WrVjW3ubu7mwul8+UHEk9PT9zd3QGwWq3mz/lt8kdPSqNGcbm4uNC4ceNiH38tRU3IIuWVr6+vRpBExEZKSkqR25aJgHT69Gm+//57IiIibLb7+Phw4sQJm235t2vWrElOTo65rX79+jZtmjVrVmo1istisdxQwBKRq9MUs4jYu57BgzKxSPu7777DYrEQHBxssz0oKIjdu3eTm5trbktMTMTX1xdvb2+aNWuGl5cX27dvN/dnZGSwf/9+2rZtW2o1REREpHwpEwEpOTmZevXqFXjF17t3by5cuMDkyZNJSUlh3bp1rFq1yhxpcnV1JTw8nNmzZ7NlyxaSk5MZM2YMPj4+dO/evdRqiIiISPlSJqbY/vjjD6pUqVJgu7e3N8uWLSMqKoqwsDCqV6/O+PHjCQsLM9uMGjWKnJwcpkyZQlZWFkFBQcTFxZmLsEqrhoiIiJQfFkOrGB1i3759ALRq1apEzzMpZgO/HjlToucQKUsa1qnKzOd6OrobIlIGXc9zb5mYYhMREREpSxSQREREROwoIImIiIjYUUASERERsaOAJCIiImJHAUlERETEjgKSiIiIiB0FJBERERE7CkgiIiIidhSQREREROwoIImIiIjYUUASERERsaOAJCIiImJHAUlERETEjgKSiIiIiB0FJBERERE7CkgiIiIidhSQREREROwoIImIiIjYUUASERERsaOAJCIiImJHAUlERETEjgKSiIiIiB0FJBERERE7ZSIgrV+/np49e9KqVSt69erFxx9/bO5LSkoiPDycNm3a0KVLF+Li4myOzcvLIzY2ltDQUAICAhgyZAhpaWk2bUqjhoiIiJQfDg9I77//PpMmTeKxxx7jww8/pGfPnowdO5bvv/+eM2fOMHjwYBo2bEhCQgIjR44kJiaGhIQE8/hFixYRHx/PjBkzWLNmDRaLhWHDhmG1WgFKrYaIiIiUH86OPLlhGMTExDBw4EAGDhwIwIgRI/juu+/YsWMHO3bswNXVlcjISJydnWnUqBFpaWksXbqU3r17Y7VaWb58OePGjaNz584AREdHExoayqZNm+jVqxfvvvtuidcQERGR8sWhI0iHDh3iyJEjPPDAAzbb4+LiiIiIYNeuXQQFBeHs/L8cFxISQmpqKqdOnSI5OZmLFy8SEhJi7q9cuTL+/v7s3LkToFRqiIiISPni0ID066+/AnDp0iWefPJJ2rdvz6OPPsrWrVsBSE9Px8fHx+aYGjVqAHD06FHS09MBqFWrVoE2x44dK7UaIiIiUr44dIrtwoULAEyYMIFnn32WF154gU8++YThw4ezYsUKsrKycHV1tTnGzc0NgMuXL5OZmQlQaJtz584BlEqN4jIMg0uXLhX7+GuxWCx4eHiUSG2RW0FmZiaGYTi6GyJShhiGgcViKVJbhwYkFxcXAJ588knCwsIAaN68Ofv372fFihW4u7ubC6Xz5QcST09P3N3dAbBarebP+W3yw0Fp1Ciu7OxskpKSin38tXh4eODv718itUVuBampqeYLIBGRfPYDHlfj0ICUP23l5+dns71x48Z8/vnn1KlThxMnTtjsy79ds2ZNcnJyzG3169e3adOsWTPzHCVdo7hcXFxo3LhxsY+/lqImZJHyytfXVyNIImIjJSWlyG0dGpD8/f2pWLEie/bsoW3btub2AwcOUL9+fe68807i4+PJzc2lQoUKACQmJuLr64u3tzeVKlXCy8uL7du3m+EmIyOD/fv3Ex4eDkBQUFCJ1ygui8VyQyNQInJ1mmIWEXvXM3jg0EXa7u7uDB06lIULF/Lhhx9y+PBhFi9ezDfffMPgwYPp3bs3Fy5cYPLkyaSkpLBu3TpWrVpFREQEcGWYLDw8nNmzZ7NlyxaSk5MZM2YMPj4+dO/eHaBUaoiIiEj54tARJIDhw4fj4eFBdHQ0x48fp1GjRsyfP5927doBsGzZMqKioggLC6N69eqMHz/eXK8EMGrUKHJycpgyZQpZWVkEBQURFxdnzjF6e3uXSg0REREpPyyGJukdYt++fQC0atWqRM8zKWYDvx45U6LnEClLGtapysznejq6GyJSBl3Pc6/Dv2pEREREpKxRQBIRERGxo4AkIiIiYkcBSURERMSOApKIiIiIHQUkERERETsKSCIiIiJ2FJBERERE7CggiYiIiNhRQBIRERGxo4AkIiIiYkcBSURERMSOApKIiIiIHQUkERERETsKSCIiIiJ2FJBERERE7CggiYiIiNhRQBIRERGxo4AkIiIiYkcBSURERMSOApKIiIiIHQUkERERETsKSCIiIiJ2FJBERERE7Dg8IB05coSmTZsW+Ld27VoAkpKSCA8Pp02bNnTp0oW4uDib4/Py8oiNjSU0NJSAgACGDBlCWlqaTZvSqCEiIiLlh8MD0s8//4ybmxtfffUVX3/9tfnvgQce4MyZMwwePJiGDRuSkJDAyJEjiYmJISEhwTx+0aJFxMfHM2PGDNasWYPFYmHYsGFYrVaAUqshIiIi5Yezoztw4MABfH19qVGjRoF9q1atwtXVlcjISJydnWnUqBFpaWksXbqU3r17Y7VaWb58OePGjaNz584AREdHExoayqZNm+jVqxfvvvtuidcQERGR8qVMjCA1bty40H27du0iKCgIZ+f/5biQkBBSU1M5deoUycnJXLx4kZCQEHN/5cqV8ff3Z+fOnaVWQ0RERMoXhwekAwcOcOrUKfr27UuHDh144okn+OqrrwBIT0/Hx8fHpn3+SNPRo0dJT08HoFatWgXaHDt2rNRqiIiISPni0Ck2q9XKr7/+ioeHB+PHj8fT05MPPviAYcOGsWLFCrKysnB1dbU5xs3NDYDLly+TmZkJUGibc+fOAZRKjeIyDINLly4V+/hrsVgseHh4lEhtkVtBZmYmhmE4uhsiUoYYhoHFYilSW4cGJFdXV3bu3Imzs7MZQFq2bMnBgweJi4vD3d3dXCidLz+QeHp64u7uDlwJWvk/57fJDwelUaO4srOzSUpKKvbx1+Lh4YG/v3+J1Ba5FaSmppovgERE8tkPeFyNwxdpFxYw/Pz8+Prrr/Hx8eHEiRM2+/Jv16xZk5ycHHNb/fr1bdo0a9YMoFRqFJeLi8tV11/dqKImZJHyytfXVyNIImIjJSWlyG0dGpCSk5N54oknWLp0KW3btjW3//jjjzRu3JjmzZsTHx9Pbm4uFSpUACAxMRFfX1+8vb2pVKkSXl5ebN++3Qw3GRkZ7N+/n/DwcACCgoJKvEZxWSyWGxqBEpGr0xSziNi7nsEDhy7S9vPzo0mTJrz00kvs2rWLgwcPMmvWLH744QeefvppevfuzYULF5g8eTIpKSmsW7eOVatWERERAVwZJgsPD2f27Nls2bKF5ORkxowZg4+PD927dwcolRoiIiJSvjh0BMnJyYklS5Ywe/ZsRo8eTUZGBv7+/qxYsYKmTZsCsGzZMqKioggLC6N69eqMHz+esLAws8aoUaPIyclhypQpZGVlERQURFxcnDnH6O3tXSo1REREpPywGJqkd4h9+/YB0KpVqxI9z6SYDfx65EyJnkOkLGlYpyozn+vp6G6ISBl0Pc+9Dv8cJBEREZGyRgFJRERExI4CkoiIiIgdBSQREREROwpIIiIiInYUkERERETsFCsg7dy5k4sXLxa6LyMjg48++uiGOiUiIiLiSMUKSAMGDODgwYOF7tu/fz8vvvjiDXVKRERExJGK/EnaEyZM4NixYwAYhkFkZCReXl4F2v36669Uq1bt5vVQREREpJQVeQSpR48eGIZh8+3Y+bfz/zk5OdGmTRtmzZpVIp0VERERKQ1FHkHq2rUrXbt2BaB///5ERkbSqFGjEuuYiIiIiKMU68tq33zzzZvdDxEREZEyo1gBKTMzkyVLlvDZZ5+RmZlJXl6ezX6LxcLmzZtvSgdFRERESluxAlJUVBQJCQkEBwfTvHlznJz0cUoiIiJSfhQrIH366aeMGTOGp5566mb3R0RERMThijX0k5OTQ+vWrW92X0RERETKhGIFpI4dO/Lll1/e7L6IiIiIlAnFmmLr2bMn06dP5/Tp0wQEBODh4VGgzcMPP3yjfRMRERFxiGIFpNGjRwOwfv161q9fX2C/xWJRQBIREZFbVrEC0pYtW252P0RERETKjGIFpDp16tzsfoiIiIiUGcUKSAsWLPjLNs8++2xxSouIiIg43E0PSF5eXtSoUUMBSURERG5ZxQpIycnJBbZdunSJ3bt3ExkZydSpU2+4YyIiIiKOctO+I8TT05PQ0FBGjBjBq6++WqwaqampBAYGsm7dOnNbUlIS4eHhtGnThi5duhAXF2dzTF5eHrGxsYSGhhIQEMCQIUNIS0uzaVMaNURERKT8uOlfolarVi0OHjx43cdlZ2fzwgsvcOnSJXPbmTNnGDx4MA0bNiQhIYGRI0cSExNDQkKC2WbRokXEx8czY8YM1qxZg8ViYdiwYVit1lKtISIiIuVHsabYCmMYBseOHWPp0qXFepfb/PnzqVixos22d999F1dXVyIjI3F2dqZRo0akpaWxdOlSevfujdVqZfny5YwbN47OnTsDEB0dTWhoKJs2baJXr16lUkNERETKl2KNIDVr1ozmzZvb/PP396dbt25s27aNZ5555rrq7dy5kzVr1vDKK6/YbN+1axdBQUE4O/8vx4WEhJCamsqpU6dITk7m4sWLhISEmPsrV66Mv78/O3fuLLUaIiIiUr4UawRpxIgRWCyWAtu9vLzo0qULDRs2LHKtjIwMxo8fz5QpU6hVq5bNvvT0dPz8/Gy21ahRA4CjR4+Snp4OUOC4GjVqcOzYsVKr4e3tXeT7KyIiImVfsQLSyJEjb1oHIiMjadOmDQ888ECBfVlZWbi6utpsc3NzA+Dy5ctkZmYCFNrm3LlzpVajuAzDsFlzdTNZLJZCvyNP5O8iMzMTwzAc3Q0RKUMMwyh0gKcwxV6DZLVaWbduHdu3bycjI4OqVavStm1bwsLCzPDwV9avX8+uXbv473//W+h+d3d3c6F0vvxA4unpibu7u9mX/J/z2+SHg9KoUVzZ2dkkJSUV+/hr8fDwwN/fv0Rqi9wKUlNTzRdAIiL57Ac8rqZYASkjI4MBAwaQnJxM7dq1qV69OqmpqXz44Ye89dZbvP3221SqVOkv6yQkJHDq1Cm6dOlis3369OnExcVRu3ZtTpw4YbMv/3bNmjXJyckxt9WvX9+mTbNmzQDw8fEp8RrF5eLiQuPGjYt9/LUUNSGLlFe+vr4aQRIRGykpKUVuW6yANGfOHNLT01m9ejVt27Y1t+/atYtRo0YRExPDlClT/rLO7NmzycrKstl27733MmrUKHr27MlHH31EfHw8ubm5VKhQAYDExER8fX3x9vamUqVKeHl5sX37djPcZGRksH//fsLDwwEICgoq8RrFZbFYbmgESkSuTlPMImLvegYPivUuti1btjB69GibcATQtm1bRo0axaefflqkOjVr1qRBgwY2/wC8vb2pU6cOvXv35sKFC0yePJmUlBTWrVvHqlWriIiIAK4Mk4WHhzN79my2bNlCcnIyY8aMwcfHh+7duwOUSg0REREpX4o1gnTx4kXq1atX6L569epx9uzZG+mTydvbm2XLlhEVFUVYWBjVq1dn/PjxhIWFmW1GjRpFTk4OU6ZMISsri6CgIOLi4sw5xtKqISIiIuWHxSjGJH3v3r0JDAwsdBrtX//6Fzt37rzqwmu5Yt++fQC0atWqRM8zKWYDvx45U6LnEClLGtapysznejq6GyJSBl3Pc2+xRpCefPJJxo4di9Vq5YEHHqBatWr88ccf/Pe//2Xt2rVERkYWp6yIiIhImVCsgNSzZ09+/fVXlixZwtq1a83tLi4ujBgxgscee+ymdVBERESktBUrIF26dInhw4cTHh7ODz/8wLlz5zh27BiPPfYYt912283uo4iIiEipuq53sSUlJfHwww+zcuVK4Mp3lnXq1IlOnToxb948+vbty8GDB0uinyIiIiKlpsgB6bfffmPQoEGcO3euwIcburq6MmnSJC5evEjfvn3N7zcTERERuRUVOSC98cYbVK1alffee497773XZp+Hhwfh4eEkJCTg6enJkiVLbnpHRUREREpLkQNSYmIiQ4cOpUqVKldt4+3tzeDBg0lMTLwZfRMRERFxiCIHpJMnT5qfdH0tfn5+mmITERGRW1qRA9Ltt99e4AtbC3P69OlrjjKJiIiIlHVFDkhBQUGsW7fuL9utX7+e5s2b31CnRERERBypyAGpf//+bN++nZdffpnLly8X2G+1WnnllVf46quv6Nev303tpIiIiEhpKvIHRbZq1YoXX3yRmTNn8v7779O+fXvq1q1Lbm4uR48eZfv27Zw5c4bnnnuO0NDQkuyziIiISIm6rk/S7tevH82aNSMuLo4tW7aYI0kVK1akY8eODBkyhICAgBLpqIiIiEhpue6vGrnrrru46667ADhz5gxOTk76ehEREREpV4r1XWz5qlaterP6ISIiIlJmXNd3sYmIiIj8HSggiYiIiNhRQBIRERGxo4AkIiIiYkcBSURERMSOApKIiIiIHQUkERERETsKSCIiIiJ2FJBERERE7Dg8IJ06dYpx48YREhJCYGAgTz31FCkpKeb+pKQkwsPDadOmDV26dCEuLs7m+Ly8PGJjYwkNDSUgIIAhQ4aQlpZm06Y0aoiIiEj54fCA9Mwzz/Dbb7+xdOlS/vOf/+Du7s6gQYPIzMzkzJkzDB48mIYNG5KQkMDIkSOJiYkhISHBPH7RokXEx8czY8YM1qxZg8ViYdiwYVitVoBSqyEiIiLlxw19F9uNOnPmDHXr1uWZZ56hSZMmAAwfPpyHHnqIX375hcTERFxdXYmMjMTZ2ZlGjRqRlpbG0qVL6d27N1arleXLlzNu3Dg6d+4MQHR0NKGhoWzatIlevXrx7rvvlngNERERKV8cOoJUtWpV5s6da4ajP/74g7i4OHx8fGjcuDG7du0iKCgIZ+f/5biQkBBSU1M5deoUycnJXLx4kZCQEHN/5cqV8ff3Z+fOnQClUkNERETKF4dPseWbOnUq//jHP9i4cSNRUVF4enqSnp6Oj4+PTbsaNWoAcPToUdLT0wGoVatWgTbHjh0DKJUaIiIiUr44dIrtzwYOHMhjjz3GO++8w4gRI3j77bfJysrC1dXVpp2bmxsAly9fJjMzE6DQNufOnQMolRrFZRgGly5dKvbx12KxWPDw8CiR2iK3gszMTAzDcHQ3RKQMMQwDi8VSpLZlJiA1btwYgH//+9/88MMPrF69Gnd3d3OhdL78QOLp6Ym7uzsAVqvV/Dm/TX44KI0axZWdnU1SUlKxj78WDw8P/P39S6S2yK0gNTXVfAEkIpLPfsDjahwakE6dOkViYiL33XcfFSpUAMDJyYlGjRpx4sQJfHx8OHHihM0x+bdr1qxJTk6Oua1+/fo2bZo1awZQKjWKy8XFxQyGN1tRE7JIeeXr66sRJBGx8eePEforDg1IJ06c4Pnnn8fb25v27dsDV0ZV9u/fT9euXalWrRrx8fHk5uaaASoxMRFfX1+8vb2pVKkSXl5ebN++3Qw3GRkZ7N+/n/DwcACCgoJKvEZxWSyWGxqBEpGr0xSziNi7nsEDhy7SbtasGR07duSll15i165dHDhwgAkTJpCRkcGgQYPo3bs3Fy5cYPLkyaSkpLBu3TpWrVpFREQEcGWYLDw8nNmzZ7NlyxaSk5MZM2YMPj4+dO/eHaBUaoiIiEj54tARJIvFwrx585gzZw6jR4/m/PnztG3blrfeeovatWsDsGzZMqKioggLC6N69eqMHz+esLAws8aoUaPIyclhypQpZGVlERQURFxcnDnH6O3tXSo1REREpPywGJqkd4h9+/YB0KpVqxI9z6SYDfx65EyJnkOkLGlYpyozn+vp6G6ISBl0Pc+9ZeZzkERERETKCgUkERERETsKSCIiIiJ2FJBERERE7CggiYiIiNhRQBIRERGxo4AkIiIiYkcBSURERMSOApKIiIiIHQUkERERETsKSCIiIiJ2FJBERERE7CggiYiIiNhRQBIRERGxo4AkIiIiYkcBSURERMSOApKIiIiIHQUkERERETsKSCIiIiJ2FJBERERE7CggiYiIiNhRQBIRERGxo4AkIiIiYkcBSUSkjMnLMxzdBRGHKSt//86O7oCIiNhycrKw8J1vOHLinKO7IlKq6tS4jRFP/MPR3QDKQEA6e/Ysc+fO5fPPP+fChQs0bdqU559/nrZt2wKQlJREVFQUP/74I1WqVKF///48+eST5vF5eXksWLCAtWvXkpGRwV133cX06dNp0KCB2aY0aoiI3ExHTpzj1yNnHN0Nkb8th0+xjR07lj179jB37lz+85//0KJFC5588kkOHjzImTNnGDx4MA0bNiQhIYGRI0cSExNDQkKCefyiRYuIj49nxowZrFmzBovFwrBhw7BarQClVkNERETKD4eOIKWlpfHNN9/wzjvvcOeddwIwefJkvvzySz788EPc3d1xdXUlMjISZ2dnGjVqRFpaGkuXLqV3795YrVaWL1/OuHHj6Ny5MwDR0dGEhoayadMmevXqxbvvvlviNURERKR8cegIUtWqVXnjjTdo2bKluc1isWAYBufOnWPXrl0EBQXh7Py/HBcSEkJqaiqnTp0iOTmZixcvEhISYu6vXLky/v7+7Ny5E6BUaoiIiEj54tARpMqVK5ujNvk+/vhjDh8+TMeOHYmOjsbPz89mf40aNQA4evQo6enpANSqVatAm2PHjgGQnp5e4jW8vb2v417/j2EYXLp0qVjH/hWLxYKHh0eJ1Ba5FWRmZmIYZePdMNdD165IyV2/hmFgsViK1Nbhi7T/bPfu3UyaNIlu3brRtWtXZs2ahaurq00bNzc3AC5fvkxmZiZAoW3Onbvy7o+srKwSr1Fc2dnZJCUlFfv4a/Hw8MDf379EaovcClJTU83r+1aia1ekZK9f++fzqykzAWnz5s288MILBAQEMHfuXADc3d3NhdL58gOJp6cn7u7uAFitVvPn/Db5r8BKo0Zxubi40Lhx42Iffy1FTcgi5ZWvr+8tO4Ik8ndXUtdvSkpKkduWiYC0evVqoqKi6N69O7NnzzbTnY+PDydOnLBpm3+7Zs2a5OTkmNvq169v06ZZs2alVqO4LBbLDQUsEbk6TVOJ3LpK6vq9nhcgDn+b/9tvv82///1v+vXrx7x582yGvoKCgti9eze5ubnmtsTERHx9ffH29qZZs2Z4eXmxfft2c39GRgb79+83P0epNGqIiIhI+eLQgJSamsrMmTPp3r07ERERnDp1ipMnT3Ly5EnOnz9P7969uXDhApMnTyYlJYV169axatUqIiIigCvziOHh4cyePZstW7aQnJzMmDFj8PHxoXv37gClUkNERETKF4dOsX3yySdkZ2ezadMmNm3aZLMvLCyMl19+mWXLlhEVFUVYWBjVq1dn/PjxhIWFme1GjRpFTk4OU6ZMISsri6CgIOLi4syRKG9v71KpISIiIuWHxbgVVzGWA/v27QOgVatWJXqeSTEb9HUF8rfSsE5VZj7X09HduGG6duXvqKSv3+t57nX4GiQRERGRskYBSURERMSOApKIiIiIHQUkERERETsKSCIiIiJ2FJBERERE7CggiYiIiNhRQBIRERGxo4AkIiIiYkcBSURERMSOApKIiIiIHQUkERERETsKSCIiIiJ2FJBERERE7CggiYiIiNhRQBIRERGxo4AkIiIiYkcBSURERMSOApKIiIiIHQUkERERETsKSCIiIiJ2FJBERERE7CggiYiIiNhRQBIRERGxU6YC0qJFi+jfv7/NtqSkJMLDw2nTpg1dunQhLi7OZn9eXh6xsbGEhoYSEBDAkCFDSEtLK/UaIiIiUn6UmYC0cuVKYmNjbbadOXOGwYMH07BhQxISEhg5ciQxMTEkJCSYbRYtWkR8fDwzZsxgzZo1WCwWhg0bhtVqLdUaIiIiUn44O7oDx48fZ/LkyezevRtfX1+bfe+++y6urq5ERkbi7OxMo0aNSEtLY+nSpfTu3Rur1cry5csZN24cnTt3BiA6OprQ0FA2bdpEr169SqWGiIiIlC8OH0H66aefuO222/jggw8ICAiw2bdr1y6CgoJwdv5fjgsJCSE1NZVTp06RnJzMxYsXCQkJMfdXrlwZf39/du7cWWo1REREpHxx+AhS165d6dq1a6H70tPT8fPzs9lWo0YNAI4ePUp6ejoAtWrVKtDm2LFjpVbD29u7CPe0IMMwuHTpUrGO/SsWiwUPD48SqS1yK8jMzMQwDEd347rp2hUpuevXMAwsFkuR2jo8IF1LVlYWrq6uNtvc3NwAuHz5MpmZmQCFtjl37lyp1Siu7OxskpKSin38tXh4eODv718itUVuBampqeb1fSvRtStSstev/fP51ZTpgOTu7m4ulM6XH0g8PT1xd3cHwGq1mj/nt8l/BVYaNYrLxcWFxo0bF/v4aylqQhYpr3x9fW/ZESSRv7uSun5TUlKK3LZMByQfHx9OnDhhsy3/ds2aNcnJyTG31a9f36ZNs2bNSq1GcVkslhsKWCJydZqmErl1ldT1ez0vQBy+SPtagoKC2L17N7m5uea2xMREfH198fb2plmzZnh5ebF9+3Zzf0ZGBvv376dt27alVkNERETKlzIdkHr37s2FCxeYPHkyKSkprFu3jlWrVhEREQFcmUcMDw9n9uzZbNmyheTkZMaMGYOPjw/du3cvtRoiIiJSvpTpKTZvb2+WLVtGVFQUYWFhVK9enfHjxxMWFma2GTVqFDk5OUyZMoWsrCyCgoKIi4szF2GVVg0REREpPyzGrbiKsRzYt28fAK1atSrR80yK2cCvR86U6DlEypKGdaoy87meju7GDdO1K39HJX39Xs9zb5meYhMRERFxBAUkERERETsKSCIiIiJ2FJBERERE7CggiYiIiNhRQBIRERGxo4AkIiIiYkcBSURERMSOApKIiIiIHQUkERERETsKSCIiIiJ2FJBERERE7CggiYiIiNhRQBIRERGxo4AkIiIiYkcBSURERMSOApKIiIiIHQUkERERETsKSCIiIiJ2FJBERERE7CggiYiIiNhRQBIRERGxo4AkIiIiYkcBSURERMSOAtJ1yMvLIzY2ltDQUAICAhgyZAhpaWmO7paIiIjcZApI12HRokXEx8czY8YM1qxZg8ViYdiwYVitVkd3TURERG4iBaQislqtLF++nJEjR9K5c2eaNWtGdHQ0x48fZ9OmTY7unoiIiNxECkhFlJyczMWLFwkJCTG3Va5cGX9/f3bu3OnAnomIiMjN5uzoDtwq0tPTAahVq5bN9ho1anDs2LHrrpednY1hGOzdu/em9K8wFouFXsHVyc3zLrFziJQ1FZyc2LdvH4ZhOLorxaZrV/6uSvr6zc7OxmKxFKmtAlIRZWZmAuDq6mqz3c3NjXPnzl13vfxfUFF/UcVV2cu9ROuLlFUlfW2VNF278ndWUtevxWJRQLrZ3N2v/GdltVrNnwEuX76Mh4fHddcLDAy8aX0TERGRm0trkIoof2rtxIkTNttPnDiBj4+PI7okIiIiJUQBqYiaNWuGl5cX27dvN7dlZGSwf/9+2rZt68CeiYiIyM2mKbYicnV1JTw8nNmzZ3P77bdTp04dXnvtNXx8fOjevbujuyciIiI3kQLSdRg1ahQ5OTlMmTKFrKwsgoKCiIuLK7BwW0RERG5tFuNWfi+siIiISAnQGiQREREROwpIIiIiInYUkERERETsKCCJiIiI2FFAEhEREbGjgCQiIiJiRwFJxAGaNm3KunXrHN0NESkFut5vTQpIIiIiInYUkERERETsKCDJ30rTpk358MMPGTBgAK1bt6Z79+5s3bqVrVu30qNHD9q0acPQoUM5ffq0eczBgwcZNmwYgYGBdOzYkeeff56TJ0+a+/v378+8efOYOnUqgYGBhISEsGjRIg4dOkS/fv1o3bo1Dz74IHv37rXpy6FDh3jiiSdo1aoV999/P998843N/s8++4xHHnnE7Oe8efOwWq029yU6Opq7776bf/zjHxw6dKiEHjWRsu3SpUvMmDGDjh07EhgYSL9+/czrLSEhgYcffpjWrVvTpk0b+vfvz08//WQeu3fvXvr27UtgYCBBQUGMHDmSo0ePAvD777/TtGlTmy8pB9spM8MwWLZsGffddx8tW7bkrrvuIiIigt9++62U7r2UGEPkb8TPz89o166dsXHjRiMtLc14+umnjTZt2hh9+vQx9uzZYyQmJhpBQUHGyy+/bBiGYaSnpxvBwcHGSy+9ZKSkpBj79u0znnrqKaNr167GxYsXDcMwjPDwcKNFixbGwoULjcOHDxsLFiww/Pz8jHvuucfYvHmzkZycbPTp08cICwuz6UfLli2Nd955xzh06JARHR1tNG3a1Ni3b59hGIbxxRdfGK1atTLefvttIy0tzfjqq6+Me++91xg1alSB+7J3717j+++/L70HUaSMyb8mv/jiC+PXX381Jk+ebLRt29bYsGGD0aJFC+O9994zfv/9d+OHH34w+vTpYzz00EOGYRhGbm6uERISYsydO9c4fPiw8eOPPxqPPPKIMXDgQMMwDOO3334z/Pz8jG+//dbmfH5+fkZCQoJhGIaxYsUKo23btsaWLVuM33//3fj222+N7t27G8OHDy+0vdw6FJDkb8XPz88MP4ZhGJ9//rnh5+dnfPPNN+a20aNHG0OGDDEMwzCio6ON+++/36bGpUuXjNatW5v/4YWHh9uEn0uXLhl+fn7G3LlzzW1vv/220bJlS5t+REVF2dR97LHHjOeff94wDMN44oknjJdeeslmf2JiouHn52f89ttvZo2ZM2de/4MgUo4cOnTI8PPzM7788ktz2+XLl42ZM2ca27dvN9577z2b9mvWrDGaNWtmGIZhnD171mjatKmxevVqIy8vzzAMwzh8+LD5gqMoAWnLli3G5s2bbfbPnTvX6NatW6Ht5dbh7OgRLJHS5uvra/7s7u4OQL169cxtbm5u5lTW/v37OXjwIIGBgTY1Ll++zMGDBwut6eHhcc2a+dq2bWtzOyAggG+//dY87969e3nvvffM/cb//73SBw8epG7dugA0aNCgSPdZpLz6+eefAWjTpo25zdXVlRdffBG4cr0sWrSItLQ0UlNTSUpKIi8vD4DbbruNoUOH8u9//5sFCxbQoUMHOnXqRI8ePYp8/q5du7Jnzx5iY2NJS0vj4MGD/PLLL9SsWfPm3UlxCAUk+dtxdi74Z2+xWAptm5eXR0hICNOnTy+wr1KlSubPLi4uBfY7OV17iZ/9/tzcXFxdXc3zDh06lLCwsALHVa9e3fw5P+CJ/F3lX8+FXcMfffQR48eP5/7776d169b06dOHAwcO8K9//cts88ILL9C3b1+++OILEhMTiYyM5PXXX2f9+vVmm/wXJwDZ2dk251i6dCnz58/nkUceITg4mP79+7NlyxY++uijm3xPpbRpkbbINTRp0oSDBw9Sq1YtGjRoQIMGDbjtttuYOXMmBw4cuKHaf14oCvDdd9/RpEkT87yHDh0yz9mgQQOOHz/Oq6++ysWLF2/ovCLlSaNGjQDYt2+fuS0nJ4cuXboQGxtLnz59eOWVV+jXrx9BQUHm4mnDMDh06BDTp0/H29ubJ554gtjYWJYtW8bBgwdJTk42X/hcuHDBrH348GGb8y9evJhnn32WyMhIHnvsMdq0acOvv/5qE6rk1qQRJJFr6Nu3L2vWrGHs2LGMGDECi8XCa6+9xv79+80wU1wrV66kfv36BAQEEB8fz4EDB5gzZw4Aw4YNY/To0cyfP5/777+f9PR0pkyZQu3atW1GkET+7nx9fbn33nt56aWXmD59Oj4+PixduhSr1Yqfnx/fffcdP/30E5UqVWLr1q2sXr0aAKvVSpUqVfjwww/JysriqaeewsnJiYSEBG677TbuuOMOKlasSL169VixYgUNGzYkMzOTWbNmmSO9ALVq1eKbb76ha9euODk58f777/Ppp59SrVo1Rz0kcpNoBEnkGurVq8fq1avJzMykb9++hIeHY7FYWLVqFd7e3jdUe/jw4bz55ps8+OCD7NixgzfeeMNcy/TPf/6T6OhotmzZwgMPPMALL7xA+/btWbBgwc24WyLlyqxZswgODmbMmDE88sgjHD16lOXLlzN16lSqVatGeHg4jz76KJ999hmvvvoqAHv27OH2229n2bJlHDlyhP/7v/8jLCyMo0ePsmLFCry8vMwXRJcvX+bhhx/m+eefp2/fvvj4+JjnfvXVV8nKyqJ3796Eh4dz4MABXnrpJU6dOsXvv//uqIdEbgKLoXFAERERERsaQRIRERGxo4AkIiIiYkcBSURERMSOApKIiIiIHQUkERERETsKSCIiIiJ2FJBERERE7CggiYiIiNjRV42ISJnWv39/AN58881C93ft2pXg4GBefvnl0uwWv//+O926dfvLdrNmzeKRRx4phR6JyM2kgCQiUgw1atRgzZo15u2TJ0/y7LPP8swzz9ClSxdze/369R3QOxG5UQpIIiLF4OrqSps2bczb+d+7Vb9+fZvtInJr0hokESlXfvrpJwYOHMhdd91FYGAggwYNYs+ePTZtdu3aRXh4OAEBAQQHBzNhwgROnz5t7l+3bh3+/v6sXbuWjh070qlTJ3755Zdi9WfUqFF07tyZvLw8m+3Tpk2jW7duGIbBxIkT6d+/P//5z3+4++67CQwMZMCAAezfv9/mmKNHjzJ27FiCg4MJCAhg4MCBBdqIyM2hgCQi5caFCxcYOnQoVatWJTY2lujoaDIzM3nyySc5f/48ADt37mTQoEG4u7szb948Jk2axI4dOxgwYABZWVlmrdzcXJYsWcKMGTMYPXo0jRs3Llaf+vTpQ3p6Otu3bze3Wa1WPv74Y8LCwrBYLAAkJSURHR3Ns88+y2uvvcbZs2fp378/x48fB+D06dM8/vjj/PTTT0ydOpU5c+aQl5dHv379OHjwYHEfMhG5Ck2xiUi5kZKSwunTp+nfvz933XUXAHfccQfx8fFcuHCBSpUqMWfOHHx9fXn99depUKECAAEBAfTq1YuEhAT69etn1nv66adt1hMVR8eOHfHx8WH9+vW0b98egM2bN3P+/HnCwsLMdufPn2fx4sUEBQUB0Lp1a+655x5WrlzJhAkTWLVqFWfPnuWdd96hTp06AHTq1ImePXsSExNDbGzsDfVTRGxpBElEbnn5ozBNmjTh9ttv55lnnmH69Ols3bqV6tWrM378eGrVqkVmZiZ79uyhc+fOGIZBTk4OOTk51KtXj0aNGvHNN9/Y1PXz87vhvjk5OREWFsann35KZmYmAO+99x7t2rUzgw5A7dq1zXAEVxaBBwYGsnv3bgASExNp3rw5NWvWNPvt5OREp06d2LZt2w33U0RsaQRJRMo0T09Pzp49e9X9VqsVDw8PACpWrMhbb73F4sWL2bBhA/Hx8Xh4ePDggw8yefJkMjIyyMvLY+nSpSxdurRALTc3N5vb3t7eN+U+9O7dmyVLlvDpp5/SoUMHvvnmG2bNmmXTpkaNGgWO8/b25qeffgLg7NmzpKWl0aJFi0LPkZmZaT4OInLjFJBEpEyrVq0aBw4cKHSf1Wrl9OnTVKtWzdx2xx138Nprr5Gbm8vevXt5//33eeedd6hbty59+/bFYrEwaNAgevXqVaBeSQWMevXqERwczMcff8z58+fx8PDg3nvvtWlTWAj8448/zJBWqVIlgoODGT9+fKHncHV1ven9Fvk70xSbiJRpwcHBHD16lL179xbYt3nzZnJzcwkJCQFg48aNhISEcPLkSSpUqEBgYCCRkZFUrlyZ9PR0vLy88Pf359ChQ7Rq1cr816RJExYsWGCzkPpm69OnD9u2beODDz7gvvvuKxDGDh8+TEpKinn7+PHj/PDDD+a6peDgYFJTU/H19bXp+wcffMDatWvN9VQicnMoIIlImdazZ09atGjBsGHDWL58Odu3bycxMZGFCxcyefJkevXqxZ133gnAnXfeSV5eHiNGjGDz5s0kJiYybdo0zp8/b47YjB07lq+//prnn3+eL774gq1btzJ06FC2bdt21emrm6FHjx64ubmxZ8+eQj9Z2zAMhg8fzoYNG/jkk08YOnQolStXNj9JfNCgQeTl5TFo0CA2bNhAYmIiU6dO5f/9v//HHXfcUWL9Fvm70hSbiJRpLi4urF69miVLlrB27VpiY2NxcnKiQYMGjBkzhvDwcLNtjRo1WLZsGTExMUyePJnMzEyaNGnC/PnzzVGmjh07EhcXx4IFCxg1ahQuLi60aNGCFStWlOgHPLq5udG+fXt+/vlnM9D9We3atRk8eDAzZ84kMzOTDh06sHjxYqpUqQJAzZo1iY+PZ86cOURGRnL58mUaNmxIVFQUffr0KbF+i/xdWQzDMBzdCRGR8i4rK4vOnTsTERHBkCFDbPZNnDiRHTt2sHXrVgf1TkTsaQRJRKQEHTlyhPfee898K/6jjz7q4B6JSFEoIImIlCAnJyfefPNNPD09mTt3LpUqVXJ0l0SkCDTFJiIiImJH72ITERERsaOAJCIiImJHAUlERETEjgKSiIiIiB0FJBERERE7CkgiIiIidhSQREREROwoIImIiIjYUUASERERsfP/Abo03y99Sex4AAAAAElFTkSuQmCC",
      "text/plain": [
       "<Figure size 600x400 with 1 Axes>"
      ]
     },
     "metadata": {},
     "output_type": "display_data"
    },
    {
     "data": {
      "image/png": "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",
      "text/plain": [
       "<Figure size 1000x400 with 1 Axes>"
      ]
     },
     "metadata": {},
     "output_type": "display_data"
    },
    {
     "name": "stderr",
     "output_type": "stream",
     "text": [
      "C:\\Users\\Administrator\\AppData\\Local\\Temp\\ipykernel_17304\\3151056677.py:29: FutureWarning: \n",
      "\n",
      "Passing `palette` without assigning `hue` is deprecated and will be removed in v0.14.0. Assign the `x` variable to `hue` and set `legend=False` for the same effect.\n",
      "\n",
      "  sns.countplot(x='start_hour', data=eda_df, palette='crest')\n"
     ]
    },
    {
     "data": {
      "image/png": "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",
      "text/plain": [
       "<Figure size 1000x500 with 1 Axes>"
      ]
     },
     "metadata": {},
     "output_type": "display_data"
    }
   ],
   "source": [
    "sns.set(style=\"whitegrid\")\n",
    "\n",
    "# 1. Count of trips per user type (member_casual)\n",
    "if 'member_casual' in eda_df.columns:\n",
    "    plt.figure(figsize=(6, 4))\n",
    "    sns.countplot(data=eda_df, x='member_casual', order=eda_df['member_casual'].value_counts().index)\n",
    "    plt.title('User Type Distribution (Member vs Casual)')\n",
    "    plt.xlabel('User Type')\n",
    "    plt.ylabel('Count')\n",
    "    plt.tight_layout()\n",
    "    plt.show()\n",
    "\n",
    "# 2. Missing values per column (only if any exist)\n",
    "missing_counts = eda_df.isna().sum()\n",
    "missing_counts = missing_counts[missing_counts > 0]\n",
    "\n",
    "if not missing_counts.empty:\n",
    "    plt.figure(figsize=(10, 4))\n",
    "    sns.barplot(x=missing_counts.index, y=missing_counts.values)\n",
    "    plt.title('Missing Values Per Column')\n",
    "    plt.ylabel('Number of Missing Values')\n",
    "    plt.xticks(rotation=45)\n",
    "    plt.tight_layout()\n",
    "    plt.show()\n",
    "\n",
    "# 3. Start hour distribution\n",
    "if 'start_hour' in eda_df.columns:\n",
    "    plt.figure(figsize=(10, 5))\n",
    "    sns.countplot(x='start_hour', data=eda_df, palette='crest')\n",
    "    plt.title('Number of Trips by Start Hour')\n",
    "    plt.xlabel('Hour of Day')\n",
    "    plt.ylabel('Trip Count')\n",
    "    plt.tight_layout()\n",
    "    plt.show()"
   ]
  },
  {
   "cell_type": "code",
   "execution_count": 3,
   "metadata": {
    "collapsed": false
   },
   "outputs": [
    {
     "name": "stdout",
     "output_type": "stream",
     "text": [
      "\n",
      "=== Processing September 2024 (202409) ===\n",
      "Processing 202409: Found 5 files\n"
     ]
    },
    {
     "name": "stderr",
     "output_type": "stream",
     "text": [
      "C:\\Users\\Administrator\\AppData\\Local\\Temp\\ipykernel_34016\\2773559082.py:14: DtypeWarning: Columns (5,7) have mixed types. Specify dtype option on import or set low_memory=False.\n",
      "  df = pd.read_csv(file)\n"
     ]
    },
    {
     "name": "stdout",
     "output_type": "stream",
     "text": [
      "  Loaded data\\202409-citibike-tripdata\\202409-citibike-tripdata_1.csv: 1000000 rows\n"
     ]
    },
    {
     "name": "stderr",
     "output_type": "stream",
     "text": [
      "C:\\Users\\Administrator\\AppData\\Local\\Temp\\ipykernel_34016\\2773559082.py:14: DtypeWarning: Columns (7) have mixed types. Specify dtype option on import or set low_memory=False.\n",
      "  df = pd.read_csv(file)\n"
     ]
    },
    {
     "name": "stdout",
     "output_type": "stream",
     "text": [
      "  Loaded data\\202409-citibike-tripdata\\202409-citibike-tripdata_2.csv: 1000000 rows\n"
     ]
    },
    {
     "name": "stderr",
     "output_type": "stream",
     "text": [
      "C:\\Users\\Administrator\\AppData\\Local\\Temp\\ipykernel_34016\\2773559082.py:14: DtypeWarning: Columns (7) have mixed types. Specify dtype option on import or set low_memory=False.\n",
      "  df = pd.read_csv(file)\n"
     ]
    },
    {
     "name": "stdout",
     "output_type": "stream",
     "text": [
      "  Loaded data\\202409-citibike-tripdata\\202409-citibike-tripdata_3.csv: 1000000 rows\n"
     ]
    },
    {
     "name": "stderr",
     "output_type": "stream",
     "text": [
      "C:\\Users\\Administrator\\AppData\\Local\\Temp\\ipykernel_34016\\2773559082.py:14: DtypeWarning: Columns (7) have mixed types. Specify dtype option on import or set low_memory=False.\n",
      "  df = pd.read_csv(file)\n"
     ]
    },
    {
     "name": "stdout",
     "output_type": "stream",
     "text": [
      "  Loaded data\\202409-citibike-tripdata\\202409-citibike-tripdata_4.csv: 1000000 rows\n"
     ]
    },
    {
     "name": "stderr",
     "output_type": "stream",
     "text": [
      "C:\\Users\\Administrator\\AppData\\Local\\Temp\\ipykernel_34016\\2773559082.py:14: DtypeWarning: Columns (5,7) have mixed types. Specify dtype option on import or set low_memory=False.\n",
      "  df = pd.read_csv(file)\n"
     ]
    },
    {
     "name": "stdout",
     "output_type": "stream",
     "text": [
      "  Loaded data\\202409-citibike-tripdata\\202409-citibike-tripdata_5.csv: 997898 rows\n",
      "  Combined data: 4997898 total rows\n",
      "  After cleaning: 4981399 rows\n",
      "  Removed 0 rows with more than 6 NaN values\n",
      "  Saved 112803 station-day records to processed_202409.csv\n",
      "  Date range: 2024-08-31 to 2024-09-30\n",
      "  Unique stations: 4402\n",
      "  Average daily net balance: 0.00\n",
      "\n",
      "=== Processing December 2024 (202412) ===\n",
      "Processing 202412: Found 3 files\n"
     ]
    },
    {
     "name": "stderr",
     "output_type": "stream",
     "text": [
      "C:\\Users\\Administrator\\AppData\\Local\\Temp\\ipykernel_34016\\2773559082.py:14: DtypeWarning: Columns (7) have mixed types. Specify dtype option on import or set low_memory=False.\n",
      "  df = pd.read_csv(file)\n"
     ]
    },
    {
     "name": "stdout",
     "output_type": "stream",
     "text": [
      "  Loaded data\\202412-citibike-tripdata\\202412-citibike-tripdata_1.csv: 1000000 rows\n"
     ]
    },
    {
     "name": "stderr",
     "output_type": "stream",
     "text": [
      "C:\\Users\\Administrator\\AppData\\Local\\Temp\\ipykernel_34016\\2773559082.py:14: DtypeWarning: Columns (5,7) have mixed types. Specify dtype option on import or set low_memory=False.\n",
      "  df = pd.read_csv(file)\n"
     ]
    },
    {
     "name": "stdout",
     "output_type": "stream",
     "text": [
      "  Loaded data\\202412-citibike-tripdata\\202412-citibike-tripdata_2.csv: 1000000 rows\n",
      "  Loaded data\\202412-citibike-tripdata\\202412-citibike-tripdata_3.csv: 311171 rows\n",
      "  Combined data: 2311171 total rows\n",
      "  After cleaning: 2302930 rows\n",
      "  Removed 0 rows with more than 6 NaN values\n",
      "  Saved 84775 station-day records to processed_202412.csv\n",
      "  Date range: 2024-11-30 to 2024-12-31\n",
      "  Unique stations: 4057\n",
      "  Average daily net balance: 0.00\n",
      "\n",
      "=== Processing March 2025 (202503) ===\n",
      "Processing 202503: Found 4 files\n"
     ]
    },
    {
     "name": "stderr",
     "output_type": "stream",
     "text": [
      "C:\\Users\\Administrator\\AppData\\Local\\Temp\\ipykernel_34016\\2773559082.py:14: DtypeWarning: Columns (5,7) have mixed types. Specify dtype option on import or set low_memory=False.\n",
      "  df = pd.read_csv(file)\n"
     ]
    },
    {
     "name": "stdout",
     "output_type": "stream",
     "text": [
      "  Loaded data\\202503-citibike-tripdata\\202503-citibike-tripdata_1.csv: 1000000 rows\n"
     ]
    },
    {
     "name": "stderr",
     "output_type": "stream",
     "text": [
      "C:\\Users\\Administrator\\AppData\\Local\\Temp\\ipykernel_34016\\2773559082.py:14: DtypeWarning: Columns (5,7) have mixed types. Specify dtype option on import or set low_memory=False.\n",
      "  df = pd.read_csv(file)\n"
     ]
    },
    {
     "name": "stdout",
     "output_type": "stream",
     "text": [
      "  Loaded data\\202503-citibike-tripdata\\202503-citibike-tripdata_2.csv: 1000000 rows\n"
     ]
    },
    {
     "name": "stderr",
     "output_type": "stream",
     "text": [
      "C:\\Users\\Administrator\\AppData\\Local\\Temp\\ipykernel_34016\\2773559082.py:14: DtypeWarning: Columns (5,7) have mixed types. Specify dtype option on import or set low_memory=False.\n",
      "  df = pd.read_csv(file)\n"
     ]
    },
    {
     "name": "stdout",
     "output_type": "stream",
     "text": [
      "  Loaded data\\202503-citibike-tripdata\\202503-citibike-tripdata_3.csv: 1000000 rows\n"
     ]
    },
    {
     "name": "stderr",
     "output_type": "stream",
     "text": [
      "C:\\Users\\Administrator\\AppData\\Local\\Temp\\ipykernel_34016\\2773559082.py:14: DtypeWarning: Columns (7) have mixed types. Specify dtype option on import or set low_memory=False.\n",
      "  df = pd.read_csv(file)\n"
     ]
    },
    {
     "name": "stdout",
     "output_type": "stream",
     "text": [
      "  Loaded data\\202503-citibike-tripdata\\202503-citibike-tripdata_4.csv: 168271 rows\n",
      "  Combined data: 3168271 total rows\n",
      "  After cleaning: 3158900 rows\n",
      "  Removed 0 rows with more than 6 NaN values\n",
      "  Saved 115534 station-day records to processed_202503.csv\n",
      "  Date range: 2025-02-28 to 2025-03-31\n",
      "  Unique stations: 4428\n",
      "  Average daily net balance: 0.00\n",
      "\n",
      "=== Processing June 2025 (202506) ===\n",
      "Processing 202506: Found 5 files\n"
     ]
    },
    {
     "name": "stderr",
     "output_type": "stream",
     "text": [
      "C:\\Users\\Administrator\\AppData\\Local\\Temp\\ipykernel_34016\\2773559082.py:14: DtypeWarning: Columns (7) have mixed types. Specify dtype option on import or set low_memory=False.\n",
      "  df = pd.read_csv(file)\n"
     ]
    },
    {
     "name": "stdout",
     "output_type": "stream",
     "text": [
      "  Loaded data\\202506-citibike-tripdata\\202506-citibike-tripdata_1.csv: 1000000 rows\n"
     ]
    },
    {
     "name": "stderr",
     "output_type": "stream",
     "text": [
      "C:\\Users\\Administrator\\AppData\\Local\\Temp\\ipykernel_34016\\2773559082.py:14: DtypeWarning: Columns (5,7) have mixed types. Specify dtype option on import or set low_memory=False.\n",
      "  df = pd.read_csv(file)\n"
     ]
    },
    {
     "name": "stdout",
     "output_type": "stream",
     "text": [
      "  Loaded data\\202506-citibike-tripdata\\202506-citibike-tripdata_2.csv: 1000000 rows\n"
     ]
    },
    {
     "name": "stderr",
     "output_type": "stream",
     "text": [
      "C:\\Users\\Administrator\\AppData\\Local\\Temp\\ipykernel_34016\\2773559082.py:14: DtypeWarning: Columns (7) have mixed types. Specify dtype option on import or set low_memory=False.\n",
      "  df = pd.read_csv(file)\n"
     ]
    },
    {
     "name": "stdout",
     "output_type": "stream",
     "text": [
      "  Loaded data\\202506-citibike-tripdata\\202506-citibike-tripdata_3.csv: 1000000 rows\n"
     ]
    },
    {
     "name": "stderr",
     "output_type": "stream",
     "text": [
      "C:\\Users\\Administrator\\AppData\\Local\\Temp\\ipykernel_34016\\2773559082.py:14: DtypeWarning: Columns (7) have mixed types. Specify dtype option on import or set low_memory=False.\n",
      "  df = pd.read_csv(file)\n"
     ]
    },
    {
     "name": "stdout",
     "output_type": "stream",
     "text": [
      "  Loaded data\\202506-citibike-tripdata\\202506-citibike-tripdata_4.csv: 1000000 rows\n"
     ]
    },
    {
     "name": "stderr",
     "output_type": "stream",
     "text": [
      "C:\\Users\\Administrator\\AppData\\Local\\Temp\\ipykernel_34016\\2773559082.py:14: DtypeWarning: Columns (7) have mixed types. Specify dtype option on import or set low_memory=False.\n",
      "  df = pd.read_csv(file)\n"
     ]
    },
    {
     "name": "stdout",
     "output_type": "stream",
     "text": [
      "  Loaded data\\202506-citibike-tripdata\\202506-citibike-tripdata_5.csv: 759345 rows\n",
      "  Combined data: 4759345 total rows\n",
      "  After cleaning: 4740706 rows\n",
      "  Removed 0 rows with more than 6 NaN values\n",
      "  Saved 93286 station-day records to processed_202506.csv\n",
      "  Date range: 2025-05-31 to 2025-06-30\n",
      "  Unique stations: 4172\n",
      "  Average daily net balance: 0.00\n",
      "\n",
      "=== Processing Complete ===\n",
      "Processed 4 months\n",
      "\n",
      "Sample data from 202409:\n",
      "  station_id                   station_name        lat        lng        date  \\\n",
      "0    5788.13          Lafayette St & E 8 St  40.730207 -73.991026  2024-08-31   \n",
      "1    6593.15                6 Ave & W 45 St  40.756951 -73.982631  2024-08-31   \n",
      "2    5847.01  Christopher St & Greenwich St  40.732916 -74.007114  2024-08-31   \n",
      "3    5379.09              Berry St & N 8 St  40.719009 -73.958525  2024-08-31   \n",
      "4    5288.12       Murray St & Greenwich St  40.714852 -74.011223  2024-08-31   \n",
      "\n",
      "   departures  arrivals  net_balance  \n",
      "0         2.0       0.0         -2.0  \n",
      "1         7.0       0.0         -7.0  \n",
      "2         2.0       0.0         -2.0  \n",
      "3         3.0       0.0         -3.0  \n",
      "4         1.0       0.0         -1.0  \n",
      "\n",
      "Data types:\n",
      "station_id       object\n",
      "station_name     object\n",
      "lat             float64\n",
      "lng             float64\n",
      "date             object\n",
      "departures      float64\n",
      "arrivals        float64\n",
      "net_balance     float64\n",
      "dtype: object\n"
     ]
    }
   ],
   "source": [
    "\n",
    "def process_month_data(month_code):\n",
    "    \"\"\"Process all CSV files for a given month\"\"\"\n",
    "    month_folder = os.path.join(data_dir, f\"{month_code}-citibike-tripdata\")\n",
    "\n",
    "    # Get all CSV files in the month folder\n",
    "    csv_files = glob.glob(os.path.join(month_folder, \"*.csv\"))\n",
    "\n",
    "    print(f\"Processing {month_code}: Found {len(csv_files)} files\")\n",
    "\n",
    "    # Read and combine all CSV files for this month\n",
    "    all_data = []\n",
    "    for file in csv_files:\n",
    "        try:\n",
    "            df = pd.read_csv(file)\n",
    "            all_data.append(df)\n",
    "            print(f\"  Loaded {file}: {len(df)} rows\")\n",
    "        except Exception as e:\n",
    "            print(f\"  Error loading {file}: {e}\")\n",
    "\n",
    "    if not all_data:\n",
    "        print(f\"No data found for {month_code}\")\n",
    "        return None\n",
    "\n",
    "    # Combine all data\n",
    "    combined_df = pd.concat(all_data, ignore_index=True)\n",
    "    print(f\"  Combined data: {len(combined_df)} total rows\")\n",
    "\n",
    "    # Convert datetime columns\n",
    "    combined_df['started_at'] = pd.to_datetime(combined_df['started_at'])\n",
    "    combined_df['ended_at'] = pd.to_datetime(combined_df['ended_at'])\n",
    "\n",
    "    # Extract date for daily aggregation\n",
    "    combined_df['start_date'] = combined_df['started_at'].dt.date\n",
    "    combined_df['end_date'] = combined_df['ended_at'].dt.date\n",
    "\n",
    "    # Remove rows with missing station information\n",
    "    combined_df = combined_df.dropna(subset=['start_station_id', 'end_station_id',\n",
    "                                           'start_station_name', 'end_station_name',\n",
    "                                           'start_lat', 'start_lng', 'end_lat', 'end_lng'])\n",
    "\n",
    "    print(f\"  After cleaning: {len(combined_df)} rows\")\n",
    "\n",
    "    return combined_df\n",
    "\n",
    "def calculate_daily_station_balance(df):\n",
    "    \"\"\"Calculate daily net balance for each station\"\"\"\n",
    "\n",
    "    # Create station master list with coordinates\n",
    "    start_stations = df[['start_station_id', 'start_station_name', 'start_lat', 'start_lng']].drop_duplicates()\n",
    "    start_stations.columns = ['station_id', 'station_name', 'lat', 'lng']\n",
    "\n",
    "    end_stations = df[['end_station_id', 'end_station_name', 'end_lat', 'end_lng']].drop_duplicates()\n",
    "    end_stations.columns = ['station_id', 'station_name', 'lat', 'lng']\n",
    "\n",
    "    # Combine and deduplicate stations\n",
    "    all_stations = pd.concat([start_stations, end_stations]).drop_duplicates(subset=['station_id'])\n",
    "\n",
    "    # Group by date and calculate departures (bikes leaving stations)\n",
    "    departures = df.groupby(['start_date', 'start_station_id']).size().reset_index()\n",
    "    departures.columns = ['date', 'station_id', 'departures']\n",
    "\n",
    "    # Group by date and calculate arrivals (bikes arriving at stations)\n",
    "    arrivals = df.groupby(['end_date', 'end_station_id']).size().reset_index()\n",
    "    arrivals.columns = ['date', 'station_id', 'arrivals']\n",
    "\n",
    "    # Get all unique dates\n",
    "    all_dates = sorted(set(df['start_date'].unique()) | set(df['end_date'].unique()))\n",
    "\n",
    "    daily_balances = []\n",
    "\n",
    "    for date in all_dates:\n",
    "        # Get departures and arrivals for this date\n",
    "        date_departures = departures[departures['date'] == date]\n",
    "        date_arrivals = arrivals[arrivals['date'] == date]\n",
    "\n",
    "        # Merge with station master list\n",
    "        date_balance = all_stations.copy()\n",
    "        date_balance['date'] = date\n",
    "\n",
    "        # Add departures\n",
    "        date_balance = date_balance.merge(date_departures[['station_id', 'departures']],\n",
    "                                        on='station_id', how='left')\n",
    "        date_balance['departures'] = date_balance['departures'].fillna(0)\n",
    "\n",
    "        # Add arrivals\n",
    "        date_balance = date_balance.merge(date_arrivals[['station_id', 'arrivals']],\n",
    "                                        on='station_id', how='left')\n",
    "        date_balance['arrivals'] = date_balance['arrivals'].fillna(0)\n",
    "\n",
    "        # Calculate net balance (positive = gained bikes, negative = lost bikes)\n",
    "        date_balance['net_balance'] = date_balance['arrivals'] - date_balance['departures']\n",
    "\n",
    "        # Only include stations that had activity\n",
    "        date_balance = date_balance[(date_balance['departures'] > 0) | (date_balance['arrivals'] > 0)]\n",
    "\n",
    "        daily_balances.append(date_balance)\n",
    "\n",
    "    return pd.concat(daily_balances, ignore_index=True)\n",
    "# Process each month\n",
    "processed_data = {}\n",
    "\n",
    "for month_code, month_name in months.items():\n",
    "    print(f\"\\n=== Processing {month_name} ({month_code}) ===\")\n",
    "\n",
    "    # Load and process raw data\n",
    "    raw_data = process_month_data(month_code)\n",
    "\n",
    "    if raw_data is not None:\n",
    "        # Remove rows with more than 6 missing values\n",
    "        original_len = len(raw_data)\n",
    "        raw_data = raw_data[raw_data.isna().sum(axis=1) <= 6]\n",
    "        removed = original_len - len(raw_data)\n",
    "        print(f\"  Removed {removed} rows with more than 6 NaN values\")\n",
    "\n",
    "        # Calculate daily balances\n",
    "        daily_balances = calculate_daily_station_balance(raw_data)\n",
    "\n",
    "        # Save processed data\n",
    "        output_file = os.path.join(f\"processed_{month_code}.csv\")\n",
    "        daily_balances.to_csv(output_file, index=False)\n",
    "\n",
    "        processed_data[month_code] = daily_balances\n",
    "\n",
    "        print(f\"  Saved {len(daily_balances)} station-day records to {output_file}\")\n",
    "        print(f\"  Date range: {daily_balances['date'].min()} to {daily_balances['date'].max()}\")\n",
    "        print(f\"  Unique stations: {daily_balances['station_id'].nunique()}\")\n",
    "        print(f\"  Average daily net balance: {daily_balances['net_balance'].mean():.2f}\")\n",
    "    else:\n",
    "        print(f\"  Skipped {month_name} - no data found\")\n",
    "\n",
    "print(f\"\\n=== Processing Complete ===\")\n",
    "print(f\"Processed {len(processed_data)} months\")\n",
    "\n",
    "# Display sample data\n",
    "if processed_data:\n",
    "    sample_month = list(processed_data.keys())[0]\n",
    "    print(f\"\\nSample data from {sample_month}:\")\n",
    "    print(processed_data[sample_month].head())\n",
    "    print(f\"\\nData types:\")\n",
    "    print(processed_data[sample_month].dtypes)\n"
   ]
  },
  {
   "cell_type": "code",
   "execution_count": null,
   "metadata": {
    "collapsed": false
   },
   "outputs": [],
   "source": []
  },
  {
   "cell_type": "code",
   "execution_count": null,
   "metadata": {
    "collapsed": false
   },
   "outputs": [],
   "source": []
  },
  {
   "cell_type": "code",
   "execution_count": null,
   "metadata": {
    "collapsed": false
   },
   "outputs": [],
   "source": []
  },
  {
   "cell_type": "code",
   "execution_count": null,
   "metadata": {
    "collapsed": false
   },
   "outputs": [],
   "source": []
  }
 ],
 "metadata": {
  "kernelspec": {
   "display_name": "Python 3",
   "language": "python",
   "name": "python3"
  },
  "language_info": {
   "codemirror_mode": {
    "name": "ipython",
    "version": 3
   },
   "file_extension": ".py",
   "mimetype": "text/x-python",
   "name": "python",
   "nbconvert_exporter": "python",
   "pygments_lexer": "ipython3",
   "version": "3.10.11"
  }
 },
 "nbformat": 4,
 "nbformat_minor": 5
}



# Calculate station-level statistics
station_analysis = all_processed_data.groupby('station_name').agg({
    'arrivals': 'sum',
    'departures': 'sum',
    'net_balance': 'sum'
}).reset_index()

# Calculate total rides and departure-arrival difference
station_analysis['total_rides'] = station_analysis['arrivals'] + station_analysis['departures']
station_analysis['departure_arrival_diff'] = station_analysis['departures'] - station_analysis['arrivals']

# Create the scatter plot
plt.figure(figsize=(14, 10))

# Main scatter plot
plt.scatter(station_analysis['total_rides'], 
           station_analysis['departure_arrival_diff'],
           alpha=0.6, s=50, c='steelblue', edgecolors='darkblue', linewidth=0.5)

# Add reference lines
plt.axhline(y=0, color='red', linestyle='--', alpha=0.8, linewidth=2, label='Perfect Balance (Departures = Arrivals)')

# Identify and highlight interesting points
# Top 5 busiest stations
top_busy = station_analysis.nlargest(5, 'total_rides')
plt.scatter(top_busy['total_rides'], top_busy['departure_arrival_diff'], 
           s=100, c='red', alpha=0.8, marker='s', edgecolors='darkred', linewidth=1,
           label='Top 5 Busiest Stations')

# Top 5 most imbalanced stations (positive and negative)
top_departure_surplus = station_analysis.nlargest(3, 'departure_arrival_diff')
top_arrival_surplus = station_analysis.nsmallest(3, 'departure_arrival_diff')
plt.scatter(top_departure_surplus['total_rides'], top_departure_surplus['departure_arrival_diff'],
           s=80, c='green', alpha=0.8, marker='^', edgecolors='darkgreen', linewidth=1,
           label='High Departure Surplus')
plt.scatter(top_arrival_surplus['total_rides'], top_arrival_surplus['departure_arrival_diff'],
           s=80, c='purple', alpha=0.8, marker='v', edgecolors='indigo', linewidth=1,
           label='High Arrival Surplus')

# Formatting
plt.xlabel('Total Rides (Arrivals + Departures)', fontsize=12, fontweight='bold')
plt.ylabel('Departure-Arrival Difference (Departures - Arrivals)', fontsize=12, fontweight='bold')
plt.title('Station Activity vs Balance Analysis\nTotal Rides vs Departure-Arrival Difference', 
         fontsize=14, fontweight='bold', pad=20)

plt.grid(True, alpha=0.3)
plt.legend(bbox_to_anchor=(1.05, 1), loc='upper left')

# Add quadrant labels
max_x, max_y = station_analysis['total_rides'].max(), station_analysis['departure_arrival_diff'].max()
min_y = station_analysis['departure_arrival_diff'].min()

plt.text(max_x * 0.85, max_y * 0.9, 'High Activity\nDeparture Hubs', 
         ha='center', va='center', fontsize=10, fontweight='bold',
         bbox=dict(boxstyle="round,pad=0.3", facecolor='lightgreen', alpha=0.7))

plt.text(max_x * 0.85, min_y * 0.9, 'High Activity\nArrival Hubs', 
         ha='center', va='center', fontsize=10, fontweight='bold',
         bbox=dict(boxstyle="round,pad=0.3", facecolor='lightcoral', alpha=0.7))

plt.text(max_x * 0.15, max_y * 0.9, 'Low Activity\nDeparture Surplus', 
         ha='center', va='center', fontsize=10, fontweight='bold',
         bbox=dict(boxstyle="round,pad=0.3", facecolor='lightyellow', alpha=0.7))

plt.text(max_x * 0.15, min_y * 0.9, 'Low Activity\nArrival Surplus', 
         ha='center', va='center', fontsize=10, fontweight='bold',
         bbox=dict(boxstyle="round,pad=0.3", facecolor='lightblue', alpha=0.7))

plt.tight_layout()
plt.show()


